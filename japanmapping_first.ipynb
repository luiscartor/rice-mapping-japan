{
 "cells": [
  {
   "cell_type": "code",
   "execution_count": 26,
   "metadata": {},
   "outputs": [],
   "source": [
    "import ee\n",
    "import geemap\n",
    "import pprint\n",
    "from matplotlib import pyplot as plt\n",
    "import pandas as pd"
   ]
  },
  {
   "cell_type": "code",
   "execution_count": 27,
   "metadata": {},
   "outputs": [],
   "source": [
    "# First part of the script times out if using all japan instead of small roi"
   ]
  },
  {
   "cell_type": "code",
   "execution_count": 28,
   "metadata": {},
   "outputs": [],
   "source": [
    "# Initialise (don't need maybe?)\n",
    "ee.Initialize()\n",
    "# Configure the pretty printing output & initialize earthengine\n",
    "pp = pprint.PrettyPrinter(depth=4)"
   ]
  },
  {
   "cell_type": "code",
   "execution_count": 29,
   "metadata": {},
   "outputs": [
    {
     "data": {
      "application/vnd.jupyter.widget-view+json": {
       "model_id": "52d7f280d7344a4fba1ba86abdd3d3f3",
       "version_major": 2,
       "version_minor": 0
      },
      "text/plain": [
       "Map(center=[38, 138], controls=(WidgetControl(options=['position'], widget=HBox(children=(ToggleButton(value=F…"
      ]
     },
     "metadata": {},
     "output_type": "display_data"
    }
   ],
   "source": [
    "Map = geemap.Map(center=[38,138], zoom=6)\n",
    "Map.add_basemap('HYBRID')\n",
    "Map"
   ]
  },
  {
   "cell_type": "code",
   "execution_count": 30,
   "metadata": {},
   "outputs": [],
   "source": [
    "# Japan shp is not small, so we ingest it from personal account (otherwise we can upload locally with geemap.shp_to_ee)\n",
    "japan_shp = 'users/luiscartor/japan_gadm0'\n",
    "japan = geemap.ee.FeatureCollection(japan_shp)\n",
    "\n",
    "Map.addLayer(japan, {}, 'Japan')\n",
    "\n",
    "point = ee.Geometry.Point([38,138])\n",
    "Map.addLayer(point, {}, 'Point')"
   ]
  },
  {
   "cell_type": "markdown",
   "metadata": {},
   "source": [
    "### Draw polygon for ROI"
   ]
  },
  {
   "cell_type": "code",
   "execution_count": 31,
   "metadata": {},
   "outputs": [],
   "source": [
    "roi = ee.FeatureCollection(Map.draw_features)"
   ]
  },
  {
   "cell_type": "markdown",
   "metadata": {},
   "source": [
    "## Adding Landsat collections"
   ]
  },
  {
   "cell_type": "code",
   "execution_count": 32,
   "metadata": {
    "scrolled": true
   },
   "outputs": [],
   "source": [
    "# Function to add year attribute\n",
    "def addyear(img):\n",
    "    return img.set('year', ee.Image(img).date().get('year'))\n",
    "\n",
    "# Function to add Day Of Year attribute\n",
    "def addDOY(img):\n",
    "    return img.set('DOY', ee.Image(img).date().getRelative('day', 'year'))\n",
    "\n",
    "# Landsat 5\n",
    "L5col = ee.ImageCollection('LANDSAT/LT05/C01/T1_SR') \\\n",
    "    .filterBounds(roi) \\\n",
    "    .select('B[1-7]','pixel_qa') \\\n",
    "    .map(addyear) \\\n",
    "    .map(addDOY)\n",
    "#.filterDate('1990-01-01', '1991-12-31') \\\n",
    "       \n",
    "#print(L5col.getInfo())\n",
    "\n",
    "# Landsat 7\n",
    "L7col = ee.ImageCollection('LANDSAT/LE07/C01/T1_SR') \\\n",
    "    .filterBounds(roi) \\\n",
    "    .select('B[1-7]','pixel_qa') \\\n",
    "    .map(addyear) \\\n",
    "    .map(addDOY) \n",
    "#.filterDate('2005-01-01', '2006-12-31') \\    \n",
    "#print(L7col)"
   ]
  },
  {
   "cell_type": "markdown",
   "metadata": {},
   "source": [
    "### Check collections properties"
   ]
  },
  {
   "cell_type": "code",
   "execution_count": 33,
   "metadata": {},
   "outputs": [
    {
     "name": "stdout",
     "output_type": "stream",
     "text": [
      "L5 Count:  262\n",
      "\n",
      "L7 Count:  370\n",
      "\n",
      "L5 Years: [1984, 1985, 1986, 1987, 1988, 1989, 1990, 1991, 1992, 1993, 1994, 1995, 1996, 1997, 1998, 1999, 2000, 2001, 2003, 2004, 2005, 2006, 2007, 2008, 2009, 2010, 2011]\n",
      "\n",
      "L7 Years: [1999, 2000, 2001, 2002, 2003, 2004, 2005, 2006, 2007, 2008, 2009, 2010, 2011, 2012, 2013, 2014, 2015, 2016, 2017, 2018, 2019, 2020]\n",
      "\n"
     ]
    }
   ],
   "source": [
    "# Get the number of images\n",
    "countL5 = L5col.size()\n",
    "print('L5 Count: ', str(countL5.getInfo())+'\\n')\n",
    "\n",
    "countL7 = L7col.size()\n",
    "print('L7 Count: ', str(countL7.getInfo())+'\\n')\n",
    "\n",
    "# Get the number of images per year\n",
    "# Define a list of unique observation years from the image collection.\n",
    "yearsL5 = ee.List(L5col.aggregate_array('year')).distinct().sort();\n",
    "print('L5 Years:', str(yearsL5.getInfo())+'\\n')\n",
    "yearsL7 = ee.List(L7col.aggregate_array('year')).distinct().sort();\n",
    "print('L7 Years:', str(yearsL7.getInfo())+'\\n')\n"
   ]
  },
  {
   "cell_type": "code",
   "execution_count": 34,
   "metadata": {},
   "outputs": [
    {
     "name": "stdout",
     "output_type": "stream",
     "text": [
      "Images per year L5: [7, 6, 7, 12, 5, 10, 17, 8, 12, 13, 6, 9, 15, 8, 9, 10, 7, 4, 1, 15, 9, 13, 15, 14, 13, 9, 8]\n",
      "\n",
      "Images per year L7: [4, 13, 16, 19, 14, 18, 14, 15, 18, 21, 15, 16, 14, 21, 16, 12, 13, 19, 17, 27, 28, 20]\n",
      "\n"
     ]
    }
   ],
   "source": [
    "# Map over the list of years to build a list of annual image composites.\n",
    "# Function to creat comp list\n",
    "def yearimlistL5(year):\n",
    "    return L5col.filterMetadata('year', 'equals', year).size()\n",
    "\n",
    "imagesperyearL5 = yearsL5.map(yearimlistL5)\n",
    "print('Images per year L5:', str(imagesperyearL5.getInfo())+'\\n')\n",
    "\n",
    "def yearimlistL7(year):\n",
    "    return L7col.filterMetadata('year', 'equals', year).size()\n",
    "\n",
    "imagesperyearL7 = yearsL7.map(yearimlistL7)\n",
    "print('Images per year L7:', str(imagesperyearL7.getInfo())+'\\n')"
   ]
  },
  {
   "cell_type": "markdown",
   "metadata": {},
   "source": [
    "### Plot images per year"
   ]
  },
  {
   "cell_type": "code",
   "execution_count": 35,
   "metadata": {},
   "outputs": [],
   "source": [
    "# Create vectors from year and images x year lists\n",
    "imxyearL5vec = [[i] for i in imagesperyearL5.getInfo()]\n",
    "#imxyearL5vec\n",
    "\n",
    "yearsL5vec = [[i] for i in yearsL5.getInfo()]\n",
    "#yearsL5vec\n",
    "\n",
    "imxyearL7vec = [[i] for i in imagesperyearL7.getInfo()]\n",
    "#imxyearL7vec\n",
    "\n",
    "yearsL7vec = [[i] for i in yearsL7.getInfo()]\n",
    "#yearsL7vec"
   ]
  },
  {
   "cell_type": "code",
   "execution_count": 36,
   "metadata": {},
   "outputs": [
    {
     "data": {
      "image/png": "[encoded data removed]",
      "text/plain": [
       "<Figure size 432x288 with 1 Axes>"
      ]
     },
     "metadata": {
      "needs_background": "light"
     },
     "output_type": "display_data"
    },
    {
     "data": {
      "image/png": "[encoded data removed]",
      "text/plain": [
       "<Figure size 432x288 with 1 Axes>"
      ]
     },
     "metadata": {
      "needs_background": "light"
     },
     "output_type": "display_data"
    }
   ],
   "source": [
    "# Plots\n",
    "plt.plot(yearsL5vec,imxyearL5vec)\n",
    "plt.title('Landsat 5')\n",
    "plt.ylabel('Number of images')\n",
    "plt.show()\n",
    "\n",
    "plt.plot(yearsL7vec,imxyearL7vec)\n",
    "plt.title('Landsat 7')\n",
    "plt.ylabel('Number of images')\n",
    "plt.xlabel('Year')\n",
    "plt.show()"
   ]
  },
  {
   "cell_type": "markdown",
   "metadata": {},
   "source": [
    "# Collection pre-processing\n",
    "### Masking functions"
   ]
  },
  {
   "cell_type": "code",
   "execution_count": 37,
   "metadata": {},
   "outputs": [],
   "source": [
    "# Function to mask clouds, cloud shadow and snow, based on the pixel_qa band of Landsat SR data"
   ]
  },
  {
   "cell_type": "code",
   "execution_count": 38,
   "metadata": {},
   "outputs": [],
   "source": [
    "# Parameters for masking function (move to preamble)\n",
    "\n",
    "def landsatmasking(img):\n",
    "\n",
    "  qa = img.select('pixel_qa')\n",
    "  # If the cloud bit (5) is set and the cloud confidence (7) is high\n",
    "  # or the cloud shadow bit is set (3), then it's a bad pixel.\n",
    "  cloudorsnow = qa.bitwiseAnd(1 << 5). \\\n",
    "    And(qa.bitwiseAnd(1 << 7)). \\\n",
    "    Or(qa.bitwiseAnd(1 << 3)). \\\n",
    "    Or(qa.bitwiseAnd(1 << 4))  \n",
    "  # Remove edge pixels that don't occur in all bands\n",
    "  mask2 = img.mask().reduce(ee.Reducer.min())\n",
    "  return img.updateMask(cloudorsnow.Not()).updateMask(mask2)\n",
    "\n",
    "\n"
   ]
  },
  {
   "cell_type": "code",
   "execution_count": 39,
   "metadata": {},
   "outputs": [],
   "source": [
    "# L5 Collection: cloud masking + snow masking\n",
    "L5col_masked = L5col.map(landsatmasking)\n",
    "\n",
    "# L7 Collection: cloud masking + snow masking\n",
    "L7col_masked = L7col.map(landsatmasking)"
   ]
  },
  {
   "cell_type": "code",
   "execution_count": 40,
   "metadata": {},
   "outputs": [
    {
     "data": {
      "application/vnd.jupyter.widget-view+json": {
       "model_id": "bb881b30253544efb790e097d1c7d3f1",
       "version_major": 2,
       "version_minor": 0
      },
      "text/plain": [
       "Map(center=[38, 138], controls=(WidgetControl(options=['position'], widget=HBox(children=(ToggleButton(value=F…"
      ]
     },
     "metadata": {},
     "output_type": "display_data"
    }
   ],
   "source": [
    "Map2 = geemap.Map(center=[38,138], zoom=6)\n",
    "Map2.add_basemap('HYBRID')\n",
    "Map2"
   ]
  },
  {
   "cell_type": "code",
   "execution_count": 41,
   "metadata": {},
   "outputs": [],
   "source": [
    "# Visualization properties\n",
    "L5_vis = {\n",
    "    'bands': ['B4', 'B3', 'B2'],\n",
    "    'min': 0.0,\n",
    "    'max': 3000.0,\n",
    "    'gamma': 1.4,\n",
    "}\n",
    "# Add layer\n",
    "#Map2.addLayer(L5col.first(), L5_vis, 'L5_first')\n",
    "#Map2.addLayer(L5col_masked.first(), L5_vis, 'L5_masked')\n",
    "\n",
    "\n",
    "\n",
    "#Map2.addLayer(L7col.first(), L5_vis, 'L7_first')\n",
    "#Map2.addLayer(L7col_masked.first(), L5_vis, 'L7_masked')"
   ]
  },
  {
   "cell_type": "markdown",
   "metadata": {},
   "source": [
    "# Spectral indeces extraction"
   ]
  },
  {
   "cell_type": "code",
   "execution_count": 42,
   "metadata": {},
   "outputs": [],
   "source": [
    "# Spectral indices function. Adds index as a new band to every image\n",
    "def addINDICES(img):\n",
    "    \n",
    "    ndvi = img.normalizedDifference(['B4', 'B3']).rename('NDVI')\n",
    "    lswi = img.normalizedDifference(['B4', 'B5']).rename('LSWI')\n",
    "    ndsi = img.normalizedDifference(['B2', 'B5']).rename('NDSI')\n",
    "    \n",
    "    # I multiply by scale factor for EVI (DIDNT WORK TO SOLVE HIGH VALUES ISSUE)\n",
    "    evi = img.expression(\n",
    "    '2.5 * ((NIR - RED) / (NIR + 6 * RED - 7.5 * BLUE + 1))', {\n",
    "        'NIR': img.select('B4').multiply(0.0001),\n",
    "      'RED': img.select('B3').multiply(0.0001),\n",
    "      'BLUE': img.select('B1').multiply(0.0001)\n",
    "    }).rename('EVI')\n",
    "    \n",
    "    return img.addBands(ndvi).addBands(lswi).addBands(ndsi).addBands(evi)\n",
    "\n",
    "# Calculate indices to collections\n",
    "L5col_indices = L5col_masked.map(addINDICES)\n",
    "L7col_indices = L7col_masked.map(addINDICES)\n"
   ]
  },
  {
   "cell_type": "code",
   "execution_count": 43,
   "metadata": {},
   "outputs": [],
   "source": [
    "# Visualize indices\n",
    "index_vis = {\n",
    "    'bands': ['EVI'],\n",
    "    'min': 0.0,\n",
    "    'max': 1.0,\n",
    "    'gamma': 1.4,\n",
    "}\n",
    "\n",
    "Map2.addLayer(L7col_indices.median(), index_vis, 'L5_evi')\n",
    "\n",
    "#Map2.addLayer(L7col_indices.median(), {'bands': ['NDVI'],'min': 0.0,'max': 1.0,'gamma': 1.4}, 'L5_ndvi')\n",
    "#Map2.addLayer(L7col_indices.median(), {'bands': ['LSWI'],'min': 0.0,'max': 1.0,'gamma': 1.4}, 'L5_lswi')"
   ]
  },
  {
   "cell_type": "code",
   "execution_count": null,
   "metadata": {},
   "outputs": [],
   "source": []
  },
  {
   "cell_type": "markdown",
   "metadata": {},
   "source": [
    "## Merge collections and subset to indeces"
   ]
  },
  {
   "cell_type": "code",
   "execution_count": 44,
   "metadata": {},
   "outputs": [],
   "source": [
    "# Define periods names\n",
    "periodnames = {'8590','9094','9599','0004','0509','1014','1520'}\n",
    "\n",
    "# Merge collections (if not merged at the beginning)\n",
    "L57col = L5col_indices.merge(L7col_indices)\n",
    "\n",
    "# Subset to spectral indices\n",
    "L57col_ind = L57col.select('NDVI','LSWI','NDSI','EVI')\n",
    "\n",
    "\n",
    "# Maybe here loop for each period!!!\n",
    "\n",
    "# Subset to 5-year periods\n",
    "L57_8589 = L57col_ind.filterDate('1985-01-01', '1989-12-31')\n",
    "L57_9094 = L57col_ind.filterDate('1990-01-01', '1994-12-31')\n",
    "L57_9599 = L57col_ind.filterDate('1995-01-01', '1999-12-31')\n",
    "L57_0004 = L57col_ind.filterDate('2000-01-01', '2004-12-31')\n",
    "L57_0509 = L57col_ind.filterDate('2005-01-01', '2009-12-31')\n",
    "L57_1014 = L57col_ind.filterDate('2010-01-01', '2014-12-31')\n",
    "L57_1520 = L57col_ind.filterDate('2015-01-01', '2019-12-31')\n",
    "\n",
    "# Dictionary with periods and collections\n",
    "periods_dict = {'8590': L57_8589,\n",
    "              '9094': L57_9094,\n",
    "              '9599': L57_9599,\n",
    "              '0004': L57_0004,\n",
    "              '0509': L57_0509,\n",
    "              '1014': L57_1014,\n",
    "              '1520': L57_1520}"
   ]
  },
  {
   "cell_type": "code",
   "execution_count": 45,
   "metadata": {},
   "outputs": [
    {
     "ename": "KeyboardInterrupt",
     "evalue": "",
     "output_type": "error",
     "traceback": [
      "\u001b[0;31m---------------------------------------------------------------------------\u001b[0m",
      "\u001b[0;31mKeyboardInterrupt\u001b[0m                         Traceback (most recent call last)",
      "\u001b[0;32m<ipython-input-45-0353c21408aa>\u001b[0m in \u001b[0;36m<module>\u001b[0;34m\u001b[0m\n\u001b[1;32m     31\u001b[0m \u001b[0;34m\u001b[0m\u001b[0m\n\u001b[1;32m     32\u001b[0m     \u001b[0;31m# Convert histogram (dictionary type) into list\u001b[0m\u001b[0;34m\u001b[0m\u001b[0;34m\u001b[0m\u001b[0;34m\u001b[0m\u001b[0m\n\u001b[0;32m---> 33\u001b[0;31m     \u001b[0mhist\u001b[0m \u001b[0;34m=\u001b[0m \u001b[0mhistogram\u001b[0m\u001b[0;34m.\u001b[0m\u001b[0mgetInfo\u001b[0m\u001b[0;34m(\u001b[0m\u001b[0;34m)\u001b[0m\u001b[0;34m\u001b[0m\u001b[0;34m\u001b[0m\u001b[0m\n\u001b[0m\u001b[1;32m     34\u001b[0m     \u001b[0mhist_list\u001b[0m \u001b[0;34m=\u001b[0m \u001b[0mlist\u001b[0m\u001b[0;34m(\u001b[0m\u001b[0mhist\u001b[0m\u001b[0;34m.\u001b[0m\u001b[0mvalues\u001b[0m\u001b[0;34m(\u001b[0m\u001b[0;34m)\u001b[0m\u001b[0;34m)\u001b[0m\u001b[0;34m\u001b[0m\u001b[0;34m\u001b[0m\u001b[0m\n\u001b[1;32m     35\u001b[0m \u001b[0;34m\u001b[0m\u001b[0m\n",
      "\u001b[0;32m/opt/miniconda3/envs/gee/lib/python3.8/site-packages/ee/computedobject.py\u001b[0m in \u001b[0;36mgetInfo\u001b[0;34m(self)\u001b[0m\n\u001b[1;32m     93\u001b[0m       \u001b[0mThe\u001b[0m \u001b[0mobject\u001b[0m \u001b[0mcan\u001b[0m \u001b[0mevaluate\u001b[0m \u001b[0mto\u001b[0m \u001b[0manything\u001b[0m\u001b[0;34m.\u001b[0m\u001b[0;34m\u001b[0m\u001b[0;34m\u001b[0m\u001b[0m\n\u001b[1;32m     94\u001b[0m     \"\"\"\n\u001b[0;32m---> 95\u001b[0;31m     \u001b[0;32mreturn\u001b[0m \u001b[0mdata\u001b[0m\u001b[0;34m.\u001b[0m\u001b[0mcomputeValue\u001b[0m\u001b[0;34m(\u001b[0m\u001b[0mself\u001b[0m\u001b[0;34m)\u001b[0m\u001b[0;34m\u001b[0m\u001b[0;34m\u001b[0m\u001b[0m\n\u001b[0m\u001b[1;32m     96\u001b[0m \u001b[0;34m\u001b[0m\u001b[0m\n\u001b[1;32m     97\u001b[0m   \u001b[0;32mdef\u001b[0m \u001b[0mencode\u001b[0m\u001b[0;34m(\u001b[0m\u001b[0mself\u001b[0m\u001b[0;34m,\u001b[0m \u001b[0mencoder\u001b[0m\u001b[0;34m)\u001b[0m\u001b[0;34m:\u001b[0m\u001b[0;34m\u001b[0m\u001b[0;34m\u001b[0m\u001b[0m\n",
      "\u001b[0;32m/opt/miniconda3/envs/gee/lib/python3.8/site-packages/ee/data.py\u001b[0m in \u001b[0;36mcomputeValue\u001b[0;34m(obj)\u001b[0m\n\u001b[1;32m    704\u001b[0m   \"\"\"\n\u001b[1;32m    705\u001b[0m   \u001b[0;32mif\u001b[0m \u001b[0m_use_cloud_api\u001b[0m\u001b[0;34m:\u001b[0m\u001b[0;34m\u001b[0m\u001b[0;34m\u001b[0m\u001b[0m\n\u001b[0;32m--> 706\u001b[0;31m     return _execute_cloud_call(\n\u001b[0m\u001b[1;32m    707\u001b[0m         _get_cloud_api_resource().projects().value().compute(\n\u001b[1;32m    708\u001b[0m             \u001b[0mbody\u001b[0m\u001b[0;34m=\u001b[0m\u001b[0;34m{\u001b[0m\u001b[0;34m'expression'\u001b[0m\u001b[0;34m:\u001b[0m \u001b[0mserializer\u001b[0m\u001b[0;34m.\u001b[0m\u001b[0mencode\u001b[0m\u001b[0;34m(\u001b[0m\u001b[0mobj\u001b[0m\u001b[0;34m,\u001b[0m \u001b[0mfor_cloud_api\u001b[0m\u001b[0;34m=\u001b[0m\u001b[0;32mTrue\u001b[0m\u001b[0;34m)\u001b[0m\u001b[0;34m}\u001b[0m\u001b[0;34m,\u001b[0m\u001b[0;34m\u001b[0m\u001b[0;34m\u001b[0m\u001b[0m\n",
      "\u001b[0;32m/opt/miniconda3/envs/gee/lib/python3.8/site-packages/ee/data.py\u001b[0m in \u001b[0;36m_execute_cloud_call\u001b[0;34m(call, num_retries)\u001b[0m\n\u001b[1;32m    343\u001b[0m   \"\"\"\n\u001b[1;32m    344\u001b[0m   \u001b[0;32mtry\u001b[0m\u001b[0;34m:\u001b[0m\u001b[0;34m\u001b[0m\u001b[0;34m\u001b[0m\u001b[0m\n\u001b[0;32m--> 345\u001b[0;31m     \u001b[0;32mreturn\u001b[0m \u001b[0mcall\u001b[0m\u001b[0;34m.\u001b[0m\u001b[0mexecute\u001b[0m\u001b[0;34m(\u001b[0m\u001b[0mnum_retries\u001b[0m\u001b[0;34m=\u001b[0m\u001b[0mnum_retries\u001b[0m\u001b[0;34m)\u001b[0m\u001b[0;34m\u001b[0m\u001b[0;34m\u001b[0m\u001b[0m\n\u001b[0m\u001b[1;32m    346\u001b[0m   \u001b[0;32mexcept\u001b[0m \u001b[0mgoogleapiclient\u001b[0m\u001b[0;34m.\u001b[0m\u001b[0merrors\u001b[0m\u001b[0;34m.\u001b[0m\u001b[0mHttpError\u001b[0m \u001b[0;32mas\u001b[0m \u001b[0me\u001b[0m\u001b[0;34m:\u001b[0m\u001b[0;34m\u001b[0m\u001b[0;34m\u001b[0m\u001b[0m\n\u001b[1;32m    347\u001b[0m     \u001b[0;32mraise\u001b[0m \u001b[0m_translate_cloud_exception\u001b[0m\u001b[0;34m(\u001b[0m\u001b[0me\u001b[0m\u001b[0;34m)\u001b[0m\u001b[0;34m\u001b[0m\u001b[0;34m\u001b[0m\u001b[0m\n",
      "\u001b[0;32m/opt/miniconda3/envs/gee/lib/python3.8/site-packages/googleapiclient/_helpers.py\u001b[0m in \u001b[0;36mpositional_wrapper\u001b[0;34m(*args, **kwargs)\u001b[0m\n\u001b[1;32m    132\u001b[0m                 \u001b[0;32melif\u001b[0m \u001b[0mpositional_parameters_enforcement\u001b[0m \u001b[0;34m==\u001b[0m \u001b[0mPOSITIONAL_WARNING\u001b[0m\u001b[0;34m:\u001b[0m\u001b[0;34m\u001b[0m\u001b[0;34m\u001b[0m\u001b[0m\n\u001b[1;32m    133\u001b[0m                     \u001b[0mlogger\u001b[0m\u001b[0;34m.\u001b[0m\u001b[0mwarning\u001b[0m\u001b[0;34m(\u001b[0m\u001b[0mmessage\u001b[0m\u001b[0;34m)\u001b[0m\u001b[0;34m\u001b[0m\u001b[0;34m\u001b[0m\u001b[0m\n\u001b[0;32m--> 134\u001b[0;31m             \u001b[0;32mreturn\u001b[0m \u001b[0mwrapped\u001b[0m\u001b[0;34m(\u001b[0m\u001b[0;34m*\u001b[0m\u001b[0margs\u001b[0m\u001b[0;34m,\u001b[0m \u001b[0;34m**\u001b[0m\u001b[0mkwargs\u001b[0m\u001b[0;34m)\u001b[0m\u001b[0;34m\u001b[0m\u001b[0;34m\u001b[0m\u001b[0m\n\u001b[0m\u001b[1;32m    135\u001b[0m \u001b[0;34m\u001b[0m\u001b[0m\n\u001b[1;32m    136\u001b[0m         \u001b[0;32mreturn\u001b[0m \u001b[0mpositional_wrapper\u001b[0m\u001b[0;34m\u001b[0m\u001b[0;34m\u001b[0m\u001b[0m\n",
      "\u001b[0;32m/opt/miniconda3/envs/gee/lib/python3.8/site-packages/googleapiclient/http.py\u001b[0m in \u001b[0;36mexecute\u001b[0;34m(self, http, num_retries)\u001b[0m\n\u001b[1;32m    890\u001b[0m \u001b[0;34m\u001b[0m\u001b[0m\n\u001b[1;32m    891\u001b[0m         \u001b[0;31m# Handle retries for server-side errors.\u001b[0m\u001b[0;34m\u001b[0m\u001b[0;34m\u001b[0m\u001b[0;34m\u001b[0m\u001b[0m\n\u001b[0;32m--> 892\u001b[0;31m         resp, content = _retry_request(\n\u001b[0m\u001b[1;32m    893\u001b[0m             \u001b[0mhttp\u001b[0m\u001b[0;34m,\u001b[0m\u001b[0;34m\u001b[0m\u001b[0;34m\u001b[0m\u001b[0m\n\u001b[1;32m    894\u001b[0m             \u001b[0mnum_retries\u001b[0m\u001b[0;34m,\u001b[0m\u001b[0;34m\u001b[0m\u001b[0;34m\u001b[0m\u001b[0m\n",
      "\u001b[0;32m/opt/miniconda3/envs/gee/lib/python3.8/site-packages/googleapiclient/http.py\u001b[0m in \u001b[0;36m_retry_request\u001b[0;34m(http, num_retries, req_type, sleep, rand, uri, method, *args, **kwargs)\u001b[0m\n\u001b[1;32m    175\u001b[0m         \u001b[0;32mtry\u001b[0m\u001b[0;34m:\u001b[0m\u001b[0;34m\u001b[0m\u001b[0;34m\u001b[0m\u001b[0m\n\u001b[1;32m    176\u001b[0m             \u001b[0mexception\u001b[0m \u001b[0;34m=\u001b[0m \u001b[0;32mNone\u001b[0m\u001b[0;34m\u001b[0m\u001b[0;34m\u001b[0m\u001b[0m\n\u001b[0;32m--> 177\u001b[0;31m             \u001b[0mresp\u001b[0m\u001b[0;34m,\u001b[0m \u001b[0mcontent\u001b[0m \u001b[0;34m=\u001b[0m \u001b[0mhttp\u001b[0m\u001b[0;34m.\u001b[0m\u001b[0mrequest\u001b[0m\u001b[0;34m(\u001b[0m\u001b[0muri\u001b[0m\u001b[0;34m,\u001b[0m \u001b[0mmethod\u001b[0m\u001b[0;34m,\u001b[0m \u001b[0;34m*\u001b[0m\u001b[0margs\u001b[0m\u001b[0;34m,\u001b[0m \u001b[0;34m**\u001b[0m\u001b[0mkwargs\u001b[0m\u001b[0;34m)\u001b[0m\u001b[0;34m\u001b[0m\u001b[0;34m\u001b[0m\u001b[0m\n\u001b[0m\u001b[1;32m    178\u001b[0m         \u001b[0;31m# Retry on SSL errors and socket timeout errors.\u001b[0m\u001b[0;34m\u001b[0m\u001b[0;34m\u001b[0m\u001b[0;34m\u001b[0m\u001b[0m\n\u001b[1;32m    179\u001b[0m         \u001b[0;32mexcept\u001b[0m \u001b[0m_ssl_SSLError\u001b[0m \u001b[0;32mas\u001b[0m \u001b[0mssl_error\u001b[0m\u001b[0;34m:\u001b[0m\u001b[0;34m\u001b[0m\u001b[0;34m\u001b[0m\u001b[0m\n",
      "\u001b[0;32m/opt/miniconda3/envs/gee/lib/python3.8/site-packages/google_auth_httplib2.py\u001b[0m in \u001b[0;36mrequest\u001b[0;34m(self, uri, method, body, headers, **kwargs)\u001b[0m\n\u001b[1;32m    198\u001b[0m \u001b[0;34m\u001b[0m\u001b[0m\n\u001b[1;32m    199\u001b[0m         \u001b[0;31m# Make the request.\u001b[0m\u001b[0;34m\u001b[0m\u001b[0;34m\u001b[0m\u001b[0;34m\u001b[0m\u001b[0m\n\u001b[0;32m--> 200\u001b[0;31m         response, content = self.http.request(\n\u001b[0m\u001b[1;32m    201\u001b[0m             uri, method, body=body, headers=request_headers, **kwargs)\n\u001b[1;32m    202\u001b[0m \u001b[0;34m\u001b[0m\u001b[0m\n",
      "\u001b[0;32m/opt/miniconda3/envs/gee/lib/python3.8/site-packages/httplib2/__init__.py\u001b[0m in \u001b[0;36mrequest\u001b[0;34m(self, uri, method, body, headers, redirections, connection_type)\u001b[0m\n\u001b[1;32m   1983\u001b[0m                     \u001b[0mcontent\u001b[0m \u001b[0;34m=\u001b[0m \u001b[0;34mb\"\"\u001b[0m\u001b[0;34m\u001b[0m\u001b[0;34m\u001b[0m\u001b[0m\n\u001b[1;32m   1984\u001b[0m                 \u001b[0;32melse\u001b[0m\u001b[0;34m:\u001b[0m\u001b[0;34m\u001b[0m\u001b[0;34m\u001b[0m\u001b[0m\n\u001b[0;32m-> 1985\u001b[0;31m                     (response, content) = self._request(\n\u001b[0m\u001b[1;32m   1986\u001b[0m                         \u001b[0mconn\u001b[0m\u001b[0;34m,\u001b[0m\u001b[0;34m\u001b[0m\u001b[0;34m\u001b[0m\u001b[0m\n\u001b[1;32m   1987\u001b[0m                         \u001b[0mauthority\u001b[0m\u001b[0;34m,\u001b[0m\u001b[0;34m\u001b[0m\u001b[0;34m\u001b[0m\u001b[0m\n",
      "\u001b[0;32m/opt/miniconda3/envs/gee/lib/python3.8/site-packages/httplib2/__init__.py\u001b[0m in \u001b[0;36m_request\u001b[0;34m(self, conn, host, absolute_uri, request_uri, method, body, headers, redirections, cachekey)\u001b[0m\n\u001b[1;32m   1648\u001b[0m             \u001b[0mauth\u001b[0m\u001b[0;34m.\u001b[0m\u001b[0mrequest\u001b[0m\u001b[0;34m(\u001b[0m\u001b[0mmethod\u001b[0m\u001b[0;34m,\u001b[0m \u001b[0mrequest_uri\u001b[0m\u001b[0;34m,\u001b[0m \u001b[0mheaders\u001b[0m\u001b[0;34m,\u001b[0m \u001b[0mbody\u001b[0m\u001b[0;34m)\u001b[0m\u001b[0;34m\u001b[0m\u001b[0;34m\u001b[0m\u001b[0m\n\u001b[1;32m   1649\u001b[0m \u001b[0;34m\u001b[0m\u001b[0m\n\u001b[0;32m-> 1650\u001b[0;31m         (response, content) = self._conn_request(\n\u001b[0m\u001b[1;32m   1651\u001b[0m             \u001b[0mconn\u001b[0m\u001b[0;34m,\u001b[0m \u001b[0mrequest_uri\u001b[0m\u001b[0;34m,\u001b[0m \u001b[0mmethod\u001b[0m\u001b[0;34m,\u001b[0m \u001b[0mbody\u001b[0m\u001b[0;34m,\u001b[0m \u001b[0mheaders\u001b[0m\u001b[0;34m\u001b[0m\u001b[0;34m\u001b[0m\u001b[0m\n\u001b[1;32m   1652\u001b[0m         )\n",
      "\u001b[0;32m/opt/miniconda3/envs/gee/lib/python3.8/site-packages/httplib2shim/__init__.py\u001b[0m in \u001b[0;36m_conn_request\u001b[0;34m(self, conn, request_uri, method, body, headers)\u001b[0m\n\u001b[1;32m    138\u001b[0m \u001b[0;34m\u001b[0m\u001b[0m\n\u001b[1;32m    139\u001b[0m         \u001b[0;32mtry\u001b[0m\u001b[0;34m:\u001b[0m\u001b[0;34m\u001b[0m\u001b[0;34m\u001b[0m\u001b[0m\n\u001b[0;32m--> 140\u001b[0;31m             urllib3_response = self.pool.request(\n\u001b[0m\u001b[1;32m    141\u001b[0m                 \u001b[0mmethod\u001b[0m\u001b[0;34m,\u001b[0m\u001b[0;34m\u001b[0m\u001b[0;34m\u001b[0m\u001b[0m\n\u001b[1;32m    142\u001b[0m                 \u001b[0mfull_uri\u001b[0m\u001b[0;34m,\u001b[0m\u001b[0;34m\u001b[0m\u001b[0;34m\u001b[0m\u001b[0m\n",
      "\u001b[0;32m/opt/miniconda3/envs/gee/lib/python3.8/site-packages/urllib3/request.py\u001b[0m in \u001b[0;36mrequest\u001b[0;34m(self, method, url, fields, headers, **urlopen_kw)\u001b[0m\n\u001b[1;32m     77\u001b[0m             )\n\u001b[1;32m     78\u001b[0m         \u001b[0;32melse\u001b[0m\u001b[0;34m:\u001b[0m\u001b[0;34m\u001b[0m\u001b[0;34m\u001b[0m\u001b[0m\n\u001b[0;32m---> 79\u001b[0;31m             return self.request_encode_body(\n\u001b[0m\u001b[1;32m     80\u001b[0m                 \u001b[0mmethod\u001b[0m\u001b[0;34m,\u001b[0m \u001b[0murl\u001b[0m\u001b[0;34m,\u001b[0m \u001b[0mfields\u001b[0m\u001b[0;34m=\u001b[0m\u001b[0mfields\u001b[0m\u001b[0;34m,\u001b[0m \u001b[0mheaders\u001b[0m\u001b[0;34m=\u001b[0m\u001b[0mheaders\u001b[0m\u001b[0;34m,\u001b[0m \u001b[0;34m**\u001b[0m\u001b[0murlopen_kw\u001b[0m\u001b[0;34m\u001b[0m\u001b[0;34m\u001b[0m\u001b[0m\n\u001b[1;32m     81\u001b[0m             )\n",
      "\u001b[0;32m/opt/miniconda3/envs/gee/lib/python3.8/site-packages/urllib3/request.py\u001b[0m in \u001b[0;36mrequest_encode_body\u001b[0;34m(self, method, url, fields, headers, encode_multipart, multipart_boundary, **urlopen_kw)\u001b[0m\n\u001b[1;32m    169\u001b[0m         \u001b[0mextra_kw\u001b[0m\u001b[0;34m.\u001b[0m\u001b[0mupdate\u001b[0m\u001b[0;34m(\u001b[0m\u001b[0murlopen_kw\u001b[0m\u001b[0;34m)\u001b[0m\u001b[0;34m\u001b[0m\u001b[0;34m\u001b[0m\u001b[0m\n\u001b[1;32m    170\u001b[0m \u001b[0;34m\u001b[0m\u001b[0m\n\u001b[0;32m--> 171\u001b[0;31m         \u001b[0;32mreturn\u001b[0m \u001b[0mself\u001b[0m\u001b[0;34m.\u001b[0m\u001b[0murlopen\u001b[0m\u001b[0;34m(\u001b[0m\u001b[0mmethod\u001b[0m\u001b[0;34m,\u001b[0m \u001b[0murl\u001b[0m\u001b[0;34m,\u001b[0m \u001b[0;34m**\u001b[0m\u001b[0mextra_kw\u001b[0m\u001b[0;34m)\u001b[0m\u001b[0;34m\u001b[0m\u001b[0;34m\u001b[0m\u001b[0m\n\u001b[0m",
      "\u001b[0;32m/opt/miniconda3/envs/gee/lib/python3.8/site-packages/urllib3/poolmanager.py\u001b[0m in \u001b[0;36murlopen\u001b[0;34m(self, method, url, redirect, **kw)\u001b[0m\n\u001b[1;32m    334\u001b[0m             \u001b[0mresponse\u001b[0m \u001b[0;34m=\u001b[0m \u001b[0mconn\u001b[0m\u001b[0;34m.\u001b[0m\u001b[0murlopen\u001b[0m\u001b[0;34m(\u001b[0m\u001b[0mmethod\u001b[0m\u001b[0;34m,\u001b[0m \u001b[0murl\u001b[0m\u001b[0;34m,\u001b[0m \u001b[0;34m**\u001b[0m\u001b[0mkw\u001b[0m\u001b[0;34m)\u001b[0m\u001b[0;34m\u001b[0m\u001b[0;34m\u001b[0m\u001b[0m\n\u001b[1;32m    335\u001b[0m         \u001b[0;32melse\u001b[0m\u001b[0;34m:\u001b[0m\u001b[0;34m\u001b[0m\u001b[0;34m\u001b[0m\u001b[0m\n\u001b[0;32m--> 336\u001b[0;31m             \u001b[0mresponse\u001b[0m \u001b[0;34m=\u001b[0m \u001b[0mconn\u001b[0m\u001b[0;34m.\u001b[0m\u001b[0murlopen\u001b[0m\u001b[0;34m(\u001b[0m\u001b[0mmethod\u001b[0m\u001b[0;34m,\u001b[0m \u001b[0mu\u001b[0m\u001b[0;34m.\u001b[0m\u001b[0mrequest_uri\u001b[0m\u001b[0;34m,\u001b[0m \u001b[0;34m**\u001b[0m\u001b[0mkw\u001b[0m\u001b[0;34m)\u001b[0m\u001b[0;34m\u001b[0m\u001b[0;34m\u001b[0m\u001b[0m\n\u001b[0m\u001b[1;32m    337\u001b[0m \u001b[0;34m\u001b[0m\u001b[0m\n\u001b[1;32m    338\u001b[0m         \u001b[0mredirect_location\u001b[0m \u001b[0;34m=\u001b[0m \u001b[0mredirect\u001b[0m \u001b[0;32mand\u001b[0m \u001b[0mresponse\u001b[0m\u001b[0;34m.\u001b[0m\u001b[0mget_redirect_location\u001b[0m\u001b[0;34m(\u001b[0m\u001b[0;34m)\u001b[0m\u001b[0;34m\u001b[0m\u001b[0;34m\u001b[0m\u001b[0m\n",
      "\u001b[0;32m/opt/miniconda3/envs/gee/lib/python3.8/site-packages/urllib3/connectionpool.py\u001b[0m in \u001b[0;36murlopen\u001b[0;34m(self, method, url, body, headers, retries, redirect, assert_same_host, timeout, pool_timeout, release_conn, chunked, body_pos, **response_kw)\u001b[0m\n\u001b[1;32m    668\u001b[0m \u001b[0;34m\u001b[0m\u001b[0m\n\u001b[1;32m    669\u001b[0m             \u001b[0;31m# Make the request on the httplib connection object.\u001b[0m\u001b[0;34m\u001b[0m\u001b[0;34m\u001b[0m\u001b[0;34m\u001b[0m\u001b[0m\n\u001b[0;32m--> 670\u001b[0;31m             httplib_response = self._make_request(\n\u001b[0m\u001b[1;32m    671\u001b[0m                 \u001b[0mconn\u001b[0m\u001b[0;34m,\u001b[0m\u001b[0;34m\u001b[0m\u001b[0;34m\u001b[0m\u001b[0m\n\u001b[1;32m    672\u001b[0m                 \u001b[0mmethod\u001b[0m\u001b[0;34m,\u001b[0m\u001b[0;34m\u001b[0m\u001b[0;34m\u001b[0m\u001b[0m\n",
      "\u001b[0;32m/opt/miniconda3/envs/gee/lib/python3.8/site-packages/urllib3/connectionpool.py\u001b[0m in \u001b[0;36m_make_request\u001b[0;34m(self, conn, method, url, timeout, chunked, **httplib_request_kw)\u001b[0m\n\u001b[1;32m    424\u001b[0m                     \u001b[0;31m# Python 3 (including for exceptions like SystemExit).\u001b[0m\u001b[0;34m\u001b[0m\u001b[0;34m\u001b[0m\u001b[0;34m\u001b[0m\u001b[0m\n\u001b[1;32m    425\u001b[0m                     \u001b[0;31m# Otherwise it looks like a bug in the code.\u001b[0m\u001b[0;34m\u001b[0m\u001b[0;34m\u001b[0m\u001b[0;34m\u001b[0m\u001b[0m\n\u001b[0;32m--> 426\u001b[0;31m                     \u001b[0msix\u001b[0m\u001b[0;34m.\u001b[0m\u001b[0mraise_from\u001b[0m\u001b[0;34m(\u001b[0m\u001b[0me\u001b[0m\u001b[0;34m,\u001b[0m \u001b[0;32mNone\u001b[0m\u001b[0;34m)\u001b[0m\u001b[0;34m\u001b[0m\u001b[0;34m\u001b[0m\u001b[0m\n\u001b[0m\u001b[1;32m    427\u001b[0m         \u001b[0;32mexcept\u001b[0m \u001b[0;34m(\u001b[0m\u001b[0mSocketTimeout\u001b[0m\u001b[0;34m,\u001b[0m \u001b[0mBaseSSLError\u001b[0m\u001b[0;34m,\u001b[0m \u001b[0mSocketError\u001b[0m\u001b[0;34m)\u001b[0m \u001b[0;32mas\u001b[0m \u001b[0me\u001b[0m\u001b[0;34m:\u001b[0m\u001b[0;34m\u001b[0m\u001b[0;34m\u001b[0m\u001b[0m\n\u001b[1;32m    428\u001b[0m             \u001b[0mself\u001b[0m\u001b[0;34m.\u001b[0m\u001b[0m_raise_timeout\u001b[0m\u001b[0;34m(\u001b[0m\u001b[0merr\u001b[0m\u001b[0;34m=\u001b[0m\u001b[0me\u001b[0m\u001b[0;34m,\u001b[0m \u001b[0murl\u001b[0m\u001b[0;34m=\u001b[0m\u001b[0murl\u001b[0m\u001b[0;34m,\u001b[0m \u001b[0mtimeout_value\u001b[0m\u001b[0;34m=\u001b[0m\u001b[0mread_timeout\u001b[0m\u001b[0;34m)\u001b[0m\u001b[0;34m\u001b[0m\u001b[0;34m\u001b[0m\u001b[0m\n",
      "\u001b[0;32m/opt/miniconda3/envs/gee/lib/python3.8/site-packages/urllib3/packages/six.py\u001b[0m in \u001b[0;36mraise_from\u001b[0;34m(value, from_value)\u001b[0m\n",
      "\u001b[0;32m/opt/miniconda3/envs/gee/lib/python3.8/site-packages/urllib3/connectionpool.py\u001b[0m in \u001b[0;36m_make_request\u001b[0;34m(self, conn, method, url, timeout, chunked, **httplib_request_kw)\u001b[0m\n\u001b[1;32m    419\u001b[0m                 \u001b[0;31m# Python 3\u001b[0m\u001b[0;34m\u001b[0m\u001b[0;34m\u001b[0m\u001b[0;34m\u001b[0m\u001b[0m\n\u001b[1;32m    420\u001b[0m                 \u001b[0;32mtry\u001b[0m\u001b[0;34m:\u001b[0m\u001b[0;34m\u001b[0m\u001b[0;34m\u001b[0m\u001b[0m\n\u001b[0;32m--> 421\u001b[0;31m                     \u001b[0mhttplib_response\u001b[0m \u001b[0;34m=\u001b[0m \u001b[0mconn\u001b[0m\u001b[0;34m.\u001b[0m\u001b[0mgetresponse\u001b[0m\u001b[0;34m(\u001b[0m\u001b[0;34m)\u001b[0m\u001b[0;34m\u001b[0m\u001b[0;34m\u001b[0m\u001b[0m\n\u001b[0m\u001b[1;32m    422\u001b[0m                 \u001b[0;32mexcept\u001b[0m \u001b[0mBaseException\u001b[0m \u001b[0;32mas\u001b[0m \u001b[0me\u001b[0m\u001b[0;34m:\u001b[0m\u001b[0;34m\u001b[0m\u001b[0;34m\u001b[0m\u001b[0m\n\u001b[1;32m    423\u001b[0m                     \u001b[0;31m# Remove the TypeError from the exception chain in\u001b[0m\u001b[0;34m\u001b[0m\u001b[0;34m\u001b[0m\u001b[0;34m\u001b[0m\u001b[0m\n",
      "\u001b[0;32m/opt/miniconda3/envs/gee/lib/python3.8/http/client.py\u001b[0m in \u001b[0;36mgetresponse\u001b[0;34m(self)\u001b[0m\n\u001b[1;32m   1345\u001b[0m         \u001b[0;32mtry\u001b[0m\u001b[0;34m:\u001b[0m\u001b[0;34m\u001b[0m\u001b[0;34m\u001b[0m\u001b[0m\n\u001b[1;32m   1346\u001b[0m             \u001b[0;32mtry\u001b[0m\u001b[0;34m:\u001b[0m\u001b[0;34m\u001b[0m\u001b[0;34m\u001b[0m\u001b[0m\n\u001b[0;32m-> 1347\u001b[0;31m                 \u001b[0mresponse\u001b[0m\u001b[0;34m.\u001b[0m\u001b[0mbegin\u001b[0m\u001b[0;34m(\u001b[0m\u001b[0;34m)\u001b[0m\u001b[0;34m\u001b[0m\u001b[0;34m\u001b[0m\u001b[0m\n\u001b[0m\u001b[1;32m   1348\u001b[0m             \u001b[0;32mexcept\u001b[0m \u001b[0mConnectionError\u001b[0m\u001b[0;34m:\u001b[0m\u001b[0;34m\u001b[0m\u001b[0;34m\u001b[0m\u001b[0m\n\u001b[1;32m   1349\u001b[0m                 \u001b[0mself\u001b[0m\u001b[0;34m.\u001b[0m\u001b[0mclose\u001b[0m\u001b[0;34m(\u001b[0m\u001b[0;34m)\u001b[0m\u001b[0;34m\u001b[0m\u001b[0;34m\u001b[0m\u001b[0m\n",
      "\u001b[0;32m/opt/miniconda3/envs/gee/lib/python3.8/http/client.py\u001b[0m in \u001b[0;36mbegin\u001b[0;34m(self)\u001b[0m\n\u001b[1;32m    305\u001b[0m         \u001b[0;31m# read until we get a non-100 response\u001b[0m\u001b[0;34m\u001b[0m\u001b[0;34m\u001b[0m\u001b[0;34m\u001b[0m\u001b[0m\n\u001b[1;32m    306\u001b[0m         \u001b[0;32mwhile\u001b[0m \u001b[0;32mTrue\u001b[0m\u001b[0;34m:\u001b[0m\u001b[0;34m\u001b[0m\u001b[0;34m\u001b[0m\u001b[0m\n\u001b[0;32m--> 307\u001b[0;31m             \u001b[0mversion\u001b[0m\u001b[0;34m,\u001b[0m \u001b[0mstatus\u001b[0m\u001b[0;34m,\u001b[0m \u001b[0mreason\u001b[0m \u001b[0;34m=\u001b[0m \u001b[0mself\u001b[0m\u001b[0;34m.\u001b[0m\u001b[0m_read_status\u001b[0m\u001b[0;34m(\u001b[0m\u001b[0;34m)\u001b[0m\u001b[0;34m\u001b[0m\u001b[0;34m\u001b[0m\u001b[0m\n\u001b[0m\u001b[1;32m    308\u001b[0m             \u001b[0;32mif\u001b[0m \u001b[0mstatus\u001b[0m \u001b[0;34m!=\u001b[0m \u001b[0mCONTINUE\u001b[0m\u001b[0;34m:\u001b[0m\u001b[0;34m\u001b[0m\u001b[0;34m\u001b[0m\u001b[0m\n\u001b[1;32m    309\u001b[0m                 \u001b[0;32mbreak\u001b[0m\u001b[0;34m\u001b[0m\u001b[0;34m\u001b[0m\u001b[0m\n",
      "\u001b[0;32m/opt/miniconda3/envs/gee/lib/python3.8/http/client.py\u001b[0m in \u001b[0;36m_read_status\u001b[0;34m(self)\u001b[0m\n\u001b[1;32m    266\u001b[0m \u001b[0;34m\u001b[0m\u001b[0m\n\u001b[1;32m    267\u001b[0m     \u001b[0;32mdef\u001b[0m \u001b[0m_read_status\u001b[0m\u001b[0;34m(\u001b[0m\u001b[0mself\u001b[0m\u001b[0;34m)\u001b[0m\u001b[0;34m:\u001b[0m\u001b[0;34m\u001b[0m\u001b[0;34m\u001b[0m\u001b[0m\n\u001b[0;32m--> 268\u001b[0;31m         \u001b[0mline\u001b[0m \u001b[0;34m=\u001b[0m \u001b[0mstr\u001b[0m\u001b[0;34m(\u001b[0m\u001b[0mself\u001b[0m\u001b[0;34m.\u001b[0m\u001b[0mfp\u001b[0m\u001b[0;34m.\u001b[0m\u001b[0mreadline\u001b[0m\u001b[0;34m(\u001b[0m\u001b[0m_MAXLINE\u001b[0m \u001b[0;34m+\u001b[0m \u001b[0;36m1\u001b[0m\u001b[0;34m)\u001b[0m\u001b[0;34m,\u001b[0m \u001b[0;34m\"iso-8859-1\"\u001b[0m\u001b[0;34m)\u001b[0m\u001b[0;34m\u001b[0m\u001b[0;34m\u001b[0m\u001b[0m\n\u001b[0m\u001b[1;32m    269\u001b[0m         \u001b[0;32mif\u001b[0m \u001b[0mlen\u001b[0m\u001b[0;34m(\u001b[0m\u001b[0mline\u001b[0m\u001b[0;34m)\u001b[0m \u001b[0;34m>\u001b[0m \u001b[0m_MAXLINE\u001b[0m\u001b[0;34m:\u001b[0m\u001b[0;34m\u001b[0m\u001b[0;34m\u001b[0m\u001b[0m\n\u001b[1;32m    270\u001b[0m             \u001b[0;32mraise\u001b[0m \u001b[0mLineTooLong\u001b[0m\u001b[0;34m(\u001b[0m\u001b[0;34m\"status line\"\u001b[0m\u001b[0;34m)\u001b[0m\u001b[0;34m\u001b[0m\u001b[0;34m\u001b[0m\u001b[0m\n",
      "\u001b[0;32m/opt/miniconda3/envs/gee/lib/python3.8/socket.py\u001b[0m in \u001b[0;36mreadinto\u001b[0;34m(self, b)\u001b[0m\n\u001b[1;32m    667\u001b[0m         \u001b[0;32mwhile\u001b[0m \u001b[0;32mTrue\u001b[0m\u001b[0;34m:\u001b[0m\u001b[0;34m\u001b[0m\u001b[0;34m\u001b[0m\u001b[0m\n\u001b[1;32m    668\u001b[0m             \u001b[0;32mtry\u001b[0m\u001b[0;34m:\u001b[0m\u001b[0;34m\u001b[0m\u001b[0;34m\u001b[0m\u001b[0m\n\u001b[0;32m--> 669\u001b[0;31m                 \u001b[0;32mreturn\u001b[0m \u001b[0mself\u001b[0m\u001b[0;34m.\u001b[0m\u001b[0m_sock\u001b[0m\u001b[0;34m.\u001b[0m\u001b[0mrecv_into\u001b[0m\u001b[0;34m(\u001b[0m\u001b[0mb\u001b[0m\u001b[0;34m)\u001b[0m\u001b[0;34m\u001b[0m\u001b[0;34m\u001b[0m\u001b[0m\n\u001b[0m\u001b[1;32m    670\u001b[0m             \u001b[0;32mexcept\u001b[0m \u001b[0mtimeout\u001b[0m\u001b[0;34m:\u001b[0m\u001b[0;34m\u001b[0m\u001b[0;34m\u001b[0m\u001b[0m\n\u001b[1;32m    671\u001b[0m                 \u001b[0mself\u001b[0m\u001b[0;34m.\u001b[0m\u001b[0m_timeout_occurred\u001b[0m \u001b[0;34m=\u001b[0m \u001b[0;32mTrue\u001b[0m\u001b[0;34m\u001b[0m\u001b[0;34m\u001b[0m\u001b[0m\n",
      "\u001b[0;32m/opt/miniconda3/envs/gee/lib/python3.8/ssl.py\u001b[0m in \u001b[0;36mrecv_into\u001b[0;34m(self, buffer, nbytes, flags)\u001b[0m\n\u001b[1;32m   1239\u001b[0m                   \u001b[0;34m\"non-zero flags not allowed in calls to recv_into() on %s\"\u001b[0m \u001b[0;34m%\u001b[0m\u001b[0;34m\u001b[0m\u001b[0;34m\u001b[0m\u001b[0m\n\u001b[1;32m   1240\u001b[0m                   self.__class__)\n\u001b[0;32m-> 1241\u001b[0;31m             \u001b[0;32mreturn\u001b[0m \u001b[0mself\u001b[0m\u001b[0;34m.\u001b[0m\u001b[0mread\u001b[0m\u001b[0;34m(\u001b[0m\u001b[0mnbytes\u001b[0m\u001b[0;34m,\u001b[0m \u001b[0mbuffer\u001b[0m\u001b[0;34m)\u001b[0m\u001b[0;34m\u001b[0m\u001b[0;34m\u001b[0m\u001b[0m\n\u001b[0m\u001b[1;32m   1242\u001b[0m         \u001b[0;32melse\u001b[0m\u001b[0;34m:\u001b[0m\u001b[0;34m\u001b[0m\u001b[0;34m\u001b[0m\u001b[0m\n\u001b[1;32m   1243\u001b[0m             \u001b[0;32mreturn\u001b[0m \u001b[0msuper\u001b[0m\u001b[0;34m(\u001b[0m\u001b[0;34m)\u001b[0m\u001b[0;34m.\u001b[0m\u001b[0mrecv_into\u001b[0m\u001b[0;34m(\u001b[0m\u001b[0mbuffer\u001b[0m\u001b[0;34m,\u001b[0m \u001b[0mnbytes\u001b[0m\u001b[0;34m,\u001b[0m \u001b[0mflags\u001b[0m\u001b[0;34m)\u001b[0m\u001b[0;34m\u001b[0m\u001b[0;34m\u001b[0m\u001b[0m\n",
      "\u001b[0;32m/opt/miniconda3/envs/gee/lib/python3.8/ssl.py\u001b[0m in \u001b[0;36mread\u001b[0;34m(self, len, buffer)\u001b[0m\n\u001b[1;32m   1097\u001b[0m         \u001b[0;32mtry\u001b[0m\u001b[0;34m:\u001b[0m\u001b[0;34m\u001b[0m\u001b[0;34m\u001b[0m\u001b[0m\n\u001b[1;32m   1098\u001b[0m             \u001b[0;32mif\u001b[0m \u001b[0mbuffer\u001b[0m \u001b[0;32mis\u001b[0m \u001b[0;32mnot\u001b[0m \u001b[0;32mNone\u001b[0m\u001b[0;34m:\u001b[0m\u001b[0;34m\u001b[0m\u001b[0;34m\u001b[0m\u001b[0m\n\u001b[0;32m-> 1099\u001b[0;31m                 \u001b[0;32mreturn\u001b[0m \u001b[0mself\u001b[0m\u001b[0;34m.\u001b[0m\u001b[0m_sslobj\u001b[0m\u001b[0;34m.\u001b[0m\u001b[0mread\u001b[0m\u001b[0;34m(\u001b[0m\u001b[0mlen\u001b[0m\u001b[0;34m,\u001b[0m \u001b[0mbuffer\u001b[0m\u001b[0;34m)\u001b[0m\u001b[0;34m\u001b[0m\u001b[0;34m\u001b[0m\u001b[0m\n\u001b[0m\u001b[1;32m   1100\u001b[0m             \u001b[0;32melse\u001b[0m\u001b[0;34m:\u001b[0m\u001b[0;34m\u001b[0m\u001b[0;34m\u001b[0m\u001b[0m\n\u001b[1;32m   1101\u001b[0m                 \u001b[0;32mreturn\u001b[0m \u001b[0mself\u001b[0m\u001b[0;34m.\u001b[0m\u001b[0m_sslobj\u001b[0m\u001b[0;34m.\u001b[0m\u001b[0mread\u001b[0m\u001b[0;34m(\u001b[0m\u001b[0mlen\u001b[0m\u001b[0;34m)\u001b[0m\u001b[0;34m\u001b[0m\u001b[0;34m\u001b[0m\u001b[0m\n",
      "\u001b[0;31mKeyboardInterrupt\u001b[0m: "
     ]
    },
    {
     "data": {
      "image/png": "[encoded data removed]",
      "text/plain": [
       "<Figure size 432x288 with 1 Axes>"
      ]
     },
     "metadata": {
      "needs_background": "light"
     },
     "output_type": "display_data"
    },
    {
     "data": {
      "image/png": "[encoded data removed]",
      "text/plain": [
       "<Figure size 432x288 with 1 Axes>"
      ]
     },
     "metadata": {
      "needs_background": "light"
     },
     "output_type": "display_data"
    },
    {
     "data": {
      "image/png": "[encoded data removed]",
      "text/plain": [
       "<Figure size 432x288 with 1 Axes>"
      ]
     },
     "metadata": {
      "needs_background": "light"
     },
     "output_type": "display_data"
    },
    {
     "data": {
      "image/png": "[encoded data removed]",
      "text/plain": [
       "<Figure size 432x288 with 1 Axes>"
      ]
     },
     "metadata": {
      "needs_background": "light"
     },
     "output_type": "display_data"
    }
   ],
   "source": [
    "# Study available images per period per pixel\n",
    "# Function to get date\n",
    "def addDATE(img):\n",
    "\n",
    "    return ee.Image.constant(img.date().getRelative('day', 'year')).int().updateMask(img.select(0).mask())\n",
    "\n",
    "\n",
    "# Loop for all periods\n",
    "#periods = [L57_8589,L57_9094]\n",
    "\n",
    "#for period in periods:\n",
    "for periodcol in periods_dict.values():\n",
    "    \n",
    "    # Obtain number of images per year; avoid same date pixels (different tile but same date), we count disctinct dates\n",
    "    freq = periodcol.map(addDATE).reduce(ee.Reducer.countDistinct())\n",
    "\n",
    "    # Visualize map\n",
    "    Map2.addLayer(freq, {'bands': ['constant_count'],'min':0,'max':50,'palette': ['00FFFF', '0000FF']}, \n",
    "                  'Im. Frequency period: ' + list(periods_dict.keys())[list(periods_dict.values()).index(periodcol)])\n",
    "\n",
    "\n",
    "    # Histogram of number of images per pixel\n",
    "    histogram = freq.reduceRegion(**{\n",
    "      'reducer': ee.Reducer.histogram(),\n",
    "      'geometry': roi.geometry(),\n",
    "      'scale': 30,\n",
    "      'maxPixels': 1e9\n",
    "    })\n",
    "\n",
    "    #print(histogram.getInfo())\n",
    "\n",
    "    # Convert histogram (dictionary type) into list\n",
    "    hist = histogram.getInfo()\n",
    "    hist_list = list(hist.values())\n",
    "\n",
    "    # Plot histogram\n",
    "    plt.figure()  # This is needed to plot multiple figures in plot\n",
    "    plt.bar(hist_list[0]['bucketMeans'], hist_list[0]['histogram'], color='g')\n",
    "    plt.ylabel('Number of pixels')\n",
    "    plt.xlabel('Number of images')\n",
    "    plt.title('# of images per pixel for the period '+ list(periods_dict.keys())[list(periods_dict.values()).index(periodcol)])\n",
    "    \n",
    "    # Save figure\n",
    "    plt.savefig('../Japan_mapping/results/figures/imgavailability_period'+\n",
    "                list(periods_dict.keys())[list(periods_dict.values()).index(periodcol)]+'_hist.eps', bbox_inches=\"tight\")"
   ]
  },
  {
   "cell_type": "code",
   "execution_count": null,
   "metadata": {},
   "outputs": [],
   "source": []
  },
  {
   "cell_type": "markdown",
   "metadata": {},
   "source": [
    "# Mapping for different prefectures"
   ]
  },
  {
   "cell_type": "code",
   "execution_count": null,
   "metadata": {},
   "outputs": [],
   "source": [
    "# List of prefectures with flooding data\n",
    "prefectures_table = '../Japan_mapping/data/prefecturesdata.csv'\n",
    "prefsdata = pd.read_csv(prefectures_table, sep=\",\")\n",
    "# shows top 10 rows\n",
    "#prefsdata.head(10)\n",
    "prefsdata"
   ]
  },
  {
   "cell_type": "code",
   "execution_count": null,
   "metadata": {},
   "outputs": [],
   "source": [
    "# List of prefectures with DOY per temperature data\n",
    "temperature_table = '../Japan_mapping/data/prefecturetempdata.csv'\n",
    "tempdata = pd.read_csv(temperature_table, sep=\",\")\n",
    "# shows top 10 rows\n",
    "#tempdata.head(10)\n",
    "tempdata"
   ]
  },
  {
   "cell_type": "code",
   "execution_count": null,
   "metadata": {},
   "outputs": [],
   "source": [
    "Map = geemap.Map(center=[38,138], zoom=6)\n",
    "Map.add_basemap('HYBRID')\n",
    "Map"
   ]
  },
  {
   "cell_type": "code",
   "execution_count": null,
   "metadata": {},
   "outputs": [],
   "source": [
    "# Load prefecture shapefile (from GEE account)\n",
    "prefs_shp = 'users/luiscartor/japan_gadm1'\n",
    "prefs = geemap.ee.FeatureCollection(prefs_shp)\n",
    "\n",
    "Map.addLayer(prefs, {}, 'Prefectures')"
   ]
  },
  {
   "cell_type": "markdown",
   "metadata": {},
   "source": [
    "## Loop for each period and prefecture"
   ]
  },
  {
   "cell_type": "code",
   "execution_count": null,
   "metadata": {},
   "outputs": [],
   "source": [
    "# Data frame to store image availability\n",
    "availabilitytable = pd.DataFrame([])\n",
    "\n",
    "# List to store prefectural rice maps\n",
    "prefmapslist = list()\n",
    "\n",
    "# Select prefecture polygon based on table name\n",
    "#prefecture = prefsdata['Prefecture'][0]\n",
    "# periodcol = L57_8589\n",
    "\n",
    "# Loop for each period\n",
    "for periodcol in periods_dict.values():\n",
    "\n",
    "    # Loop for each prefecture\n",
    "    for prefecture in prefsdata['Prefecture']:\n",
    "\n",
    "        # Extract prefecture polygon\n",
    "        prefpolygon = prefs \\\n",
    "            .filter(ee.Filter.eq(\"NAME_1\", prefecture)) \n",
    "\n",
    "        #Map.addLayer(Ibaraki, {}, 'Ibaraki')\n",
    "        #print(prefecture)\n",
    "        #print(list(periods_dict.keys())[list(periods_dict.values()).index(periodcol)])"
   ]
  },
  {
   "cell_type": "code",
   "execution_count": null,
   "metadata": {},
   "outputs": [],
   "source": [
    "prefecture = prefsdata['Prefecture'][0]\n",
    "periodcol = L57_8589\n",
    "\n",
    "# Extract flooding periods\n",
    "# Flooding start day is considered the first day of transplanting (TS)\n",
    "flood_start = int(prefsdata['startdate'][prefsdata[prefsdata['Prefecture']==prefecture].index[0]])\n",
    "# Flooding last day is considered the end day of transplanting + 30 days\n",
    "flood_end = int(prefsdata['enddate'][prefsdata[prefsdata['Prefecture']==prefecture].index[0]] + 30)\n",
    "\n",
    "print(flood_start)\n",
    "print(flood_end)\n",
    "\n",
    "# Extracting DOY for temperature data\n",
    "TGS0S = int(tempdata['TGS-0-S'][prefsdata[prefsdata['Prefecture']==prefecture].index[0]])\n",
    "TGS0E = int(tempdata['TGS-0-E'][prefsdata[prefsdata['Prefecture']==prefecture].index[0]]) \n",
    "TGS5S = int(tempdata['TGS-5-S'][prefsdata[prefsdata['Prefecture']==prefecture].index[0]]) \n",
    "TGS5E = int(tempdata['TGS-5-E'][prefsdata[prefsdata['Prefecture']==prefecture].index[0]]) \n",
    "TGS10S = int(tempdata['TGS-10-S'][prefsdata[prefsdata['Prefecture']==prefecture].index[0]]) \n",
    "TGS10E = int(tempdata['TGS-10-E'][prefsdata[prefsdata['Prefecture']==prefecture].index[0]])"
   ]
  },
  {
   "cell_type": "code",
   "execution_count": null,
   "metadata": {},
   "outputs": [],
   "source": [
    "# List for each period (year period and irrigation period)\n",
    "# Subset to flooding period\n",
    "periodcol_flood = periodcol.filter(ee.Filter.gte('DOY', flood_start)).filter(ee.Filter.lte('DOY', flood_end))\n",
    "\n",
    "#periodcol_test = periodcol.filter(ee.Filter.calendarRange(flood_start, flood_end))\n",
    "\n",
    "# Subset to non-flooding period\n",
    "periodcol_noflood1 = periodcol.filter(ee.Filter.lte('DOY', flood_start))\n",
    "periodcol_noflood2 = periodcol.filter(ee.Filter.gte('DOY', flood_end))\n",
    "periodcol_noflood = periodcol_noflood1.merge(periodcol_noflood2)\n",
    "\n",
    "# Print number of images per season\n",
    "print('Number of Images during non-flooding season for', prefecture, \n",
    "      'for the period', list(periods_dict.keys())[list(periods_dict.values()).index(periodcol)], \n",
    "      str(periodcol_flood.size().getInfo())+'\\n')\n",
    "print('Number of Images during non-flooding season for', prefecture, \n",
    "      'for the period', list(periods_dict.keys())[list(periods_dict.values()).index(periodcol)],\n",
    "      str(periodcol_noflood.size().getInfo())+'\\n')\n",
    "\n",
    "# Add number of images per season and period into table\n",
    "d = {'Prefecture': [prefecture], \n",
    "     'Lustrum': [list(periods_dict.keys())[list(periods_dict.values()).index(periodcol)]], \n",
    "     'AvImFlooding': [periodcol_flood.size().getInfo()], \n",
    "     'AvImNonFlooding': [periodcol_noflood.size().getInfo()]} \n",
    "availabilitytable_pref = pd.DataFrame(data=d)\n",
    "\n",
    "# Add prefecture to table\n",
    "availabilitytable = availabilitytable.append(availabilitytable_pref)\n",
    "\n",
    "print(availabilitytable_pref)\n",
    "print(availabilitytable)\n",
    "\n",
    "\n",
    "#periodcol_flood = periodcol.filter(ee.Filter.dayOfYear(flood_start, flood_end)).first()\n",
    "#Map.addLayer(periodcol_flood, {}, 'floodcol')\n",
    "\n",
    "\n",
    "# Create Histogram of availability per pixel and map!\n",
    "freq = periodcol_flood.reduce(ee.Reducer.countDistinct())\n",
    "\n",
    "# Histogram of number of images per pixel\n",
    "histogram = freq.reduceRegion(**{\n",
    "  'reducer': ee.Reducer.histogram(),\n",
    "  'geometry': prefpolygon.geometry(),\n",
    "  'scale': 30,\n",
    "  'maxPixels': 1e9\n",
    "})\n",
    "\n",
    "# Convert histogram (dictionary type) into list\n",
    "hist = histogram.getInfo()\n",
    "hist_list = list(hist.values())\n",
    "\n",
    "# Plot histogram\n",
    "plt.figure()  # This is needed to plot multiple figures in plot\n",
    "plt.bar(hist_list[0]['bucketMeans'], hist_list[0]['histogram'], color='g')\n",
    "plt.ylabel('Number of pixels')\n",
    "plt.xlabel('Number of images')\n",
    "plt.title('# of images per pixel for the period '+ list(periods_dict.keys())[list(periods_dict.values()).index(periodcol)]+\n",
    "         ' for ' + prefecture)\n",
    "# Save figure\n",
    "plt.savefig('../Japan_mapping/results/figures/floodimageavailability_period'+\n",
    "            list(periods_dict.keys())[list(periods_dict.values()).index(periodcol)]+\n",
    "            '_'+prefecture+'_hist.eps', bbox_inches=\"tight\")"
   ]
  },
  {
   "cell_type": "code",
   "execution_count": null,
   "metadata": {},
   "outputs": [],
   "source": [
    "# Subset to period between first 0 and last 0 min degrees:\n",
    "L57_0S0E = periodcol.filter(ee.Filter.gte('DOY', TGS0S)).filter(ee.Filter.lte('DOY', TGS0E))\n",
    "\n",
    "# Subset to period between first 5 and last 5 min degrees:\n",
    "L57_5S5E = periodcol.filter(ee.Filter.gte('DOY', TGS5S)).filter(ee.Filter.lte('DOY', TGS5E))\n",
    "\n",
    "# Subset to period between first 0 and first 10 min degrees:\n",
    "L57_0S10S = periodcol.filter(ee.Filter.gte('DOY', TGS0S)).filter(ee.Filter.lte('DOY', TGS10S))\n",
    "\n",
    "# Subset to period between first 10 + 40days and last 10 min degrees:\n",
    "L57_10S40to5E = periodcol.filter(ee.Filter.gte('DOY', TGS10S+40)).filter(ee.Filter.lte('DOY', TGS10E))\n",
    "\n",
    "# Subset to period between last 10 and first 10 (not thermal growing season)\n",
    "L57_10E10S1 = periodcol.filter(ee.Filter.lte('DOY', TGS10S))\n",
    "L57_10E10S2 = periodcol.filter(ee.Filter.gte('DOY', TGS10E))\n",
    "L57_10E10S = L57_10E10S1.merge(L57_10E10S2)"
   ]
  },
  {
   "cell_type": "code",
   "execution_count": null,
   "metadata": {},
   "outputs": [],
   "source": [
    "Map3 = geemap.Map(center=[38,138], zoom=6)\n",
    "Map3.add_basemap('HYBRID')\n",
    "Map3"
   ]
  },
  {
   "cell_type": "code",
   "execution_count": null,
   "metadata": {},
   "outputs": [],
   "source": [
    "# Calculate median value for indeces for rice flooding period\n",
    "L57_flood_median = periodcol_flood.median()\n",
    "\n",
    "# Median\n",
    "L57_5S5E_median = L57_5S5E.median()\n"
   ]
  },
  {
   "cell_type": "code",
   "execution_count": null,
   "metadata": {},
   "outputs": [],
   "source": [
    "# MASKS (based on Dong 2016, RSE)\n",
    "\n",
    "# Mask 1) Sparce vegetation: soil, built-up, water body, low vegetated lands. max EVI (T5S-T5E) < 0.6\n",
    "# I could use some percentile, instead of max, in order to avoid outliers\n",
    "L57_5S5E_median = L57_5S5E.median()\n",
    "L57_5S5E_max = L57_5S5E.max()\n",
    "\n",
    "mask1 = L57_5S5E_max.select('EVI').lt(0.5)"
   ]
  },
  {
   "cell_type": "code",
   "execution_count": null,
   "metadata": {},
   "outputs": [],
   "source": [
    "# Mask 2) Natural vegetation mask: forests, natural wetlands, grass. Max EVI (T10E-T10S) > 0.4\n",
    "L57_10E10S_median = L57_10E10S.median()\n",
    "L57_10E10S_max = L57_10E10S.max()\n",
    "\n",
    "mask2 = L57_10E10S_median.select('EVI').gt(0.2)\n",
    "\n",
    "#SOLVE ISSUE: EVI GIVING VALUES ABOVE 2!"
   ]
  },
  {
   "cell_type": "code",
   "execution_count": null,
   "metadata": {},
   "outputs": [],
   "source": [
    "# Mask 3) Forest mask (JAXA)\n",
    "# Starts from 2007\n",
    "forestdataset = ee.ImageCollection('JAXA/ALOS/PALSAR/YEARLY/FNF') \\\n",
    "    .filterDate('2017-01-01', '2017-12-31')\n",
    "    \n",
    "# Forest is the fnf = 1\n",
    "forest = forestdataset.first().select('fnf').eq(1);\n",
    "\n",
    "# Create forest mask\n",
    "mask3 = forest\n",
    "\n",
    "# MASK 3 NOT WORKING VERY WELL. ALOS MAP GETS A LOT OF FALSE POSITIVE FOREST (REDUCING RICE FIELDS)"
   ]
  },
  {
   "cell_type": "code",
   "execution_count": null,
   "metadata": {},
   "outputs": [],
   "source": [
    "# Mask 4) Slope: larger than 3deg\n",
    "\n",
    "# Call SRTM elevation dataset\n",
    "elevdataset = ee.Image('JAXA/ALOS/AW3D30/V2_2');\n",
    "elevation = elevdataset.select('AVE_DSM');\n",
    "\n",
    "# Obtain \n",
    "slope = ee.Terrain.slope(elevation);\n",
    "\n",
    "# Create mask ro slope > 3 deg\n",
    "mask4 = slope.gt(3)"
   ]
  },
  {
   "cell_type": "code",
   "execution_count": null,
   "metadata": {},
   "outputs": [],
   "source": []
  },
  {
   "cell_type": "code",
   "execution_count": null,
   "metadata": {},
   "outputs": [],
   "source": [
    "# Method 2 for classifying based on % of images\n",
    "# Add band to each image for rice classification\n",
    "# Function to add a band of rice classification to each image in the col\n",
    "# Rule for rice is that LSWI − NDVI > 0 or LSWI − EVI > 0\n",
    "def addRICE(img):    \n",
    "    rice = img.expression(\n",
    "    \"(lswi - ndvi > 0) || (lswi - evi > 0) ? 1\\\n",
    "    :2\",{'lswi': img.select('LSWI'),'ndvi': img.select('NDVI'),'evi': img.select('EVI')}).rename('RICE')\n",
    "    \n",
    "    return img.addBands(rice)\n",
    "\n",
    "#rice = L57_flood_median.expression(\n",
    "#    \"(lswi - ndvi > 0) || (lswi - evi > 0) ? 1\\\n",
    "#    :2\",{'lswi': L57_flood_median.select('LSWI'),'ndvi': L57_flood_median.select('NDVI'),'evi': L57_flood_median.select('EVI')})\n",
    "  \n",
    "\n",
    "\n",
    "    \n",
    "# APPLY MASKS!\n",
    "def landcovermasking(img):\n",
    "  return img.updateMask(mask1.Not()).updateMask(mask2.Not()).updateMask(mask3.Not()).updateMask(mask4.Not())\n",
    "\n",
    "\n",
    "periodcol_flood_masked =  periodcol_flood.map(landcovermasking)\n",
    "\n",
    "    \n",
    "periodcol_ricecol = periodcol_flood_masked.map(addRICE).select('RICE')\n",
    "\n",
    "# Now we apply the % of images threshold to classify as rice\n",
    "def classornot(img):\n",
    "    return img.eq(1)\n",
    "    \n",
    "# Reduce the number of images with classornot pixels\n",
    "riceprop = periodcol_ricecol.map(classornot).mean()\n",
    "\n",
    "# Select % of image necessary to assing rice!\n",
    "riceclass = riceprop.gte(0.1).clip(prefpolygon)\n",
    "\n",
    "# Insert map in list\n",
    "prefmapslist.append(riceclass)\n",
    "\n",
    "print(len(prefmapslist))\n",
    "#prefmapslist = list()\n",
    "\n",
    "periodcol = ee.ImageCollection.fromImages(prefmapslist)\n",
    "print(periodcol.size().getInfo())\n",
    "\n",
    "periodmosaic = periodcol.mosaic()\n",
    "Map3.addLayer(periodmosaic, {}, 'mosaic')"
   ]
  },
  {
   "cell_type": "code",
   "execution_count": null,
   "metadata": {},
   "outputs": [],
   "source": [
    "index_vis = {\n",
    "    'bands': ['EVI'],\n",
    "    'min': 0.0,\n",
    "    'max': 2.0,\n",
    "    'gamma': 1.4,\n",
    "}\n",
    "\n",
    "Map3.addLayer(L57_10E10S_median, index_vis, 'EVI')\n",
    "Map3.addLayer(mask1, {}, 'mask1')\n",
    "Map3.addLayer(mask2, {}, 'mask2')\n",
    "Map3.addLayer(mask3, {}, 'mask3')\n",
    "Map3.addLayer(mask4, {}, 'mask4')\n",
    "#Map3.addLayer(slope, {}, 'slope')\n",
    "#Map3.addLayer(ricefinal, {}, 'finalmap')\n",
    "Map3.addLayer(riceclass, {}, 'rice')"
   ]
  },
  {
   "cell_type": "code",
   "execution_count": null,
   "metadata": {},
   "outputs": [],
   "source": []
  },
  {
   "cell_type": "markdown",
   "metadata": {},
   "source": [
    "# Join maps: Japan paddy field maps "
   ]
  },
  {
   "cell_type": "markdown",
   "metadata": {},
   "source": [
    "# Save to disk"
   ]
  },
  {
   "cell_type": "code",
   "execution_count": null,
   "metadata": {},
   "outputs": [],
   "source": [
    "# Save availabilitytable!"
   ]
  },
  {
   "cell_type": "markdown",
   "metadata": {},
   "source": [
    "# Accuracy assessment"
   ]
  },
  {
   "cell_type": "code",
   "execution_count": null,
   "metadata": {},
   "outputs": [],
   "source": []
  },
  {
   "cell_type": "code",
   "execution_count": null,
   "metadata": {},
   "outputs": [],
   "source": []
  },
  {
   "cell_type": "code",
   "execution_count": null,
   "metadata": {},
   "outputs": [],
   "source": []
  },
  {
   "cell_type": "code",
   "execution_count": null,
   "metadata": {},
   "outputs": [],
   "source": []
  },
  {
   "cell_type": "code",
   "execution_count": null,
   "metadata": {},
   "outputs": [],
   "source": [
    "# IMPERVIOUS AND BARREN\n",
    "# Rule for impervious and barren is LSWI < 0 \n",
    "def addIMPERV(img):    \n",
    "    imperv = img.expression(\n",
    "    \"(lswi < 0) ? 1\\\n",
    "    :2\",{'lswi': img.select('LSWI')}).rename('IMPERV')\n",
    "    \n",
    "    return img.addBands(imperv)\n",
    "\n",
    "L57_8589_impervcol = L57_5S5E.map(addIMPERV).select('IMPERV')\n",
    "\n",
    "# Now we apply the % of images threshold to classify as rice\n",
    "def classornot(img):\n",
    "    return img.eq(1)\n",
    "\n",
    "# Reduce the number of images with classornot pixels\n",
    "impervprop = L57_8589_impervcol.map(classornot).mean()\n",
    "# Select % of image necessary to assing imperv\n",
    "impervclass = impervprop.gte(0.5)\n",
    "\n",
    "# EVERGREEN\n",
    "# Rule for evergreen is LSWI > 0 \n",
    "def addEVER(img):    \n",
    "    ever = img.expression(\n",
    "    \"(lswi > 0) ? 1\\\n",
    "    :2\",{'lswi': img.select('LSWI')}).rename('EVER')\n",
    "    \n",
    "    return img.addBands(ever)\n",
    "\n",
    "L57_8589_evercol = L57_8589.map(addEVER).select('EVER')\n",
    "\n",
    "# Now we apply the % of images threshold to classify ever\n",
    "def classornot(img):\n",
    "    return img.eq(1)\n",
    "\n",
    "# Reduce the number of images with classornot pixels\n",
    "everprop = L57_8589_evercol.map(classornot).mean()\n",
    "# Select % of image necessary to assing imperv\n",
    "everclass = everprop.gte(0.9)"
   ]
  }
 ],
 "metadata": {
  "kernelspec": {
   "display_name": "Python 3",
   "language": "python",
   "name": "python3"
  },
  "language_info": {
   "codemirror_mode": {
    "name": "ipython",
    "version": 3
   },
   "file_extension": ".py",
   "mimetype": "text/x-python",
   "name": "python",
   "nbconvert_exporter": "python",
   "pygments_lexer": "ipython3",
   "version": "3.8.5"
  }
 },
 "nbformat": 4,
 "nbformat_minor": 4
}
