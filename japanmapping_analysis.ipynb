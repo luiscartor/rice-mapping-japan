{
 "cells": [
  {
   "cell_type": "code",
   "execution_count": 2,
   "metadata": {},
   "outputs": [],
   "source": [
    "import ee\n",
    "import geemap\n",
    "import pprint\n",
    "from matplotlib import pyplot as plt\n",
    "import pandas as pd\n",
    "import os\n",
    "import numpy as np\n",
    "from pprint import pprint\n",
    "import copy\n",
    "import string\n",
    "from io import StringIO\n",
    "from pandas.compat import StringIO\n",
    "from pandas import DataFrame\n",
    "from celluloid import Camera\n",
    "import pylandstats as pls"
   ]
  },
  {
   "cell_type": "code",
   "execution_count": 3,
   "metadata": {},
   "outputs": [],
   "source": [
    "ee.Initialize()"
   ]
  },
  {
   "cell_type": "markdown",
   "metadata": {},
   "source": [
    "## Parameters (INPUT)"
   ]
  },
  {
   "cell_type": "code",
   "execution_count": 4,
   "metadata": {},
   "outputs": [],
   "source": [
    "out_dir = os.path.join(os.path.expanduser('~'), 'gee/Japan_mapping/results/analysis/')"
   ]
  },
  {
   "cell_type": "markdown",
   "metadata": {},
   "source": [
    "## Load maps and prefecures"
   ]
  },
  {
   "cell_type": "code",
   "execution_count": 5,
   "metadata": {},
   "outputs": [],
   "source": [
    "# Load rice maps\n",
    "tambo1519_path = 'users/luiscartor/tambo_1519_filtered'\n",
    "tambo1519 = geemap.ee.Image(tambo1519_path)\n",
    "tambo1014_path = 'users/luiscartor/tambo_1014_filtered'\n",
    "tambo1014 = geemap.ee.Image(tambo1014_path)\n",
    "tambo0509_path = 'users/luiscartor/tambo_0509_filtered'\n",
    "tambo0509 = geemap.ee.Image(tambo0509_path)\n",
    "tambo0004_path = 'users/luiscartor/tambo_0004_filtered'\n",
    "tambo0004 = geemap.ee.Image(tambo0004_path)\n",
    "tambo9599_path = 'users/luiscartor/tambo_9599_filtered'\n",
    "tambo9599 = geemap.ee.Image(tambo9599_path)\n",
    "tambo9094_path = 'users/luiscartor/tambo_9094_filtered'\n",
    "tambo9094 = geemap.ee.Image(tambo9094_path)\n",
    "tambo8589_path = 'users/luiscartor/tambo_8589_filtered'\n",
    "tambo8589 = geemap.ee.Image(tambo8589_path)\n",
    "\n",
    "# Load prefectures and Japan shapefiles (from GEE account)\n",
    "japan_shp = 'users/luiscartor/japan_gadm0'\n",
    "japan = geemap.ee.FeatureCollection(japan_shp)\n",
    "\n",
    "prefs_shp = 'users/luiscartor/japan_gadm1_noOKINAWA'\n",
    "prefs = geemap.ee.FeatureCollection(prefs_shp)\n",
    "\n",
    "# List of prefectures transplanting START DOY: We extract from here the used prefectures\n",
    "transplant_startdates_table = '../Japan_mapping/data/transplanting_startdates.csv'\n",
    "transplant_startdates = pd.read_csv(transplant_startdates_table, sep=\",\")"
   ]
  },
  {
   "cell_type": "markdown",
   "metadata": {},
   "source": [
    "## Visualize maps"
   ]
  },
  {
   "cell_type": "code",
   "execution_count": 6,
   "metadata": {},
   "outputs": [
    {
     "data": {
      "application/vnd.jupyter.widget-view+json": {
       "model_id": "d02260ddf9294767937631d18c3ee0fd",
       "version_major": 2,
       "version_minor": 0
      },
      "text/plain": [
       "Map(center=[38, 138], controls=(WidgetControl(options=['position', 'transparent_bg'], widget=HBox(children=(To…"
      ]
     },
     "metadata": {},
     "output_type": "display_data"
    }
   ],
   "source": [
    "Map = geemap.Map(center=[38,138], zoom=6)\n",
    "Map.add_basemap('HYBRID')\n",
    "Map"
   ]
  },
  {
   "cell_type": "code",
   "execution_count": 7,
   "metadata": {},
   "outputs": [],
   "source": [
    "Map.addLayer(prefs, {}, 'Prefectures')\n",
    "Map.addLayer(tambo8589,{min: 0, max: 1},'tambo8589')"
   ]
  },
  {
   "cell_type": "code",
   "execution_count": 95,
   "metadata": {},
   "outputs": [],
   "source": [
    "#pprint(transplant_startdates.Prefecture)\n",
    "#data = pd.DataFrame(transplant_startdates.Prefecture)"
   ]
  },
  {
   "cell_type": "markdown",
   "metadata": {},
   "source": [
    "## Extract rice area to table"
   ]
  },
  {
   "cell_type": "code",
   "execution_count": 132,
   "metadata": {},
   "outputs": [
    {
     "name": "stdout",
     "output_type": "stream",
     "text": [
      "   Prefecture     8585     9094     9599     0004     0509     1014     1519\n",
      "0    Hokkaido  1889830  2258053  1969176  1662737  1470572  1322012  1160669\n",
      "1      Aomori   826754   782298   757940   623498   562672   565235   530364\n",
      "2       Iwate   721346   671388   649910   587051   575360   513986   544502\n",
      "3      Miyagi  1144595  1068532  1155974  1049124   985740   871179   945727\n",
      "4       Akita  1464030  1394416  1313720  1230608  1166900  1176633  1096792\n",
      "5    Yamagata   929342   914767   881482   739442   689685   695832   696625\n",
      "6   Fukushima   817636   860351   897745   773530   763336   664047   644695\n",
      "7     Ibaraki  1169399  1016892   959514  1006668   990912   993400   883702\n",
      "8     Tochigi   852874   784553   670574   733367   707700   585932   628785\n",
      "9       Gunma   258013   265479   164104   157342   134271   121886   146971\n",
      "10    Saitama   548219   414243   354568   400328   388649   328220   370854\n",
      "11      Chiba   770764   740520   727331   691663   699024   679830   637013\n",
      "12      Tokyo     3877     7266      573     1195      458      711      856\n",
      "13   Kanagawa    52569    75473    27644    35709    31706    32911    30600\n",
      "14    Niigata  1874948  1807693  1704455  1637823  1620344  1579267  1598003\n",
      "15     Toyama   627043   602492   595517   594599   535021   530387   472517\n",
      "16   Ishikawa   374576   377192   374794   361936   328382   310571   297829\n",
      "17      Fukui   447898   429209   417723   413370   393988   366124   330140\n",
      "18  Yamanashi    55992    38374    40850    30359    28076    25066    27270\n",
      "19     Nagano   445558   447272   386842   337651   341589   321853   300721\n",
      "20       Gifu   166304   168196   205773   239983   222500   245273   199619\n",
      "21   Shizuoka   216386   167254   123977   124209   155165   101315    95789\n",
      "22      Aichi   335416   291562   301608   271242   306912   236771   240945\n",
      "23        Mie   359127   377970   402248   323873   336505   312797   253376\n",
      "24      Shiga   625406   621644   570447   673241   580632   476450   444650\n",
      "25      Kyoto   177139   157480   113826   134164   116617   109426   103436\n",
      "26      Osaka    31227    25155    65026    18603    13634     9763    12842\n",
      "27      Hyogo   473738   355143   369741   321729   265046   186708   237500\n",
      "28       Nara    67222    87390    92912    62508    63031    24635    53911\n",
      "29   Wakayama    62864    58127    72717    24743    35516    19093    22682\n",
      "30    Tottori   116329   109746   115611    89858    67510    76838    39113\n",
      "31    Shimane   166792   180033   169125   140570   121484   107288    98548\n",
      "32    Okayama   263892   247994   245916   181860   129457   142143    54867\n",
      "33  Hiroshima   106549   163444   129384   106976   103130    95403    71177\n",
      "34  Yamaguchi   141421   206830   135004   178341   115440   121798   120296\n",
      "35  Tokushima   136430   134581   187099   111476   117969    90352    59282\n",
      "36     Kagawa   145154    79620   102888    47799    47989    30262    18737\n",
      "37      Ehime   119025    68084    77842    76119    72449    55149    29057\n",
      "38      Kochi    95854   106922   114874   107567    85334    84428    72402\n",
      "39    Fukuoka   361060   300043    78650   302392   163031   197609   163934\n",
      "40       Saga   267794   322289    58320   287506   221052    57002   127261\n",
      "41   Nagasaki    54162    75112    38061    68990    52379    24972    33104\n",
      "42   Kumamoto   259828   456471   249924   306654   214523   136143   178337\n",
      "43       Oita   101767   190307   128677   128923    96771    96317    97088\n",
      "44   Miyazaki    78430   222917   222843   207313   168732   121197   101180\n",
      "45  Kagoshima   173777   244373   163952   205496   161239   131495   154212\n"
     ]
    }
   ],
   "source": [
    "periods_dict = {'8589': tambo8589,\n",
    "              '9094': tambo9094,\n",
    "              '9599': tambo9599,\n",
    "              '0004': tambo0004,\n",
    "              '0509': tambo0509,\n",
    "              '1014': tambo1014,\n",
    "               '1519': tambo1519}\n",
    "\n",
    "\n",
    "data = pd.DataFrame(transplant_startdates.Prefecture)\n",
    "# Loop through periods\n",
    "for period in periods_dict.values():\n",
    "    #period = tambo8589\n",
    "\n",
    "    periodname = list(periods_dict.keys())[list(periods_dict.values()).index(period)]\n",
    "    filename = os.path.join(out_dir, periodname + '_ricestats.csv')  \n",
    "\n",
    "\n",
    "\n",
    "    # Add reducer output to the Features in the collection.\n",
    "    sums = period.reduceRegions(**{\n",
    "      'collection': prefs,\n",
    "      'reducer': ee.Reducer.sum(),\n",
    "      'scale': 30,\n",
    "    })\n",
    "\n",
    "    values = sums.reduceColumns(ee.Reducer.toList(2), ['NAME_1','sum']).values().get(0)\n",
    "    values_df = pd.DataFrame(values.getInfo(),columns=['Prefecture','Sum'])\n",
    "    #pprint(values_df)\n",
    "\n",
    "    data = data.merge(values_df, on='Prefecture', how='left')\n",
    "\n",
    "# Changes column names\n",
    "data.columns = ['Prefecture', '8585','9094','9599','0004','0509','1014','1519']\n",
    "\n",
    "pprint(data)\n"
   ]
  },
  {
   "cell_type": "markdown",
   "metadata": {},
   "source": [
    "### Process table"
   ]
  },
  {
   "cell_type": "code",
   "execution_count": 159,
   "metadata": {},
   "outputs": [],
   "source": [
    "# Converts pixel count to km2 (each pixel is 900m2)\n",
    "areatable = data.copy()\n",
    "areatable[areatable.columns[1:8]] = areatable[areatable.columns[1:8]].multiply(900/1000)\n",
    "#areatable\n",
    "\n",
    "# Adds row with totals\n",
    "areatable = areatable.append(areatable.sum(numeric_only=True), ignore_index=True)\n",
    "# Rename Japan total row\n",
    "areatable.loc[areatable.index[-1],'Prefecture'] = 'AllJapan'\n",
    "areatable\n",
    "\n",
    "# Save table\n",
    "areatable.to_csv(out_dir + 'riceareabyprefecture.csv', index = False)"
   ]
  },
  {
   "cell_type": "markdown",
   "metadata": {},
   "source": [
    "## Visualize area results"
   ]
  },
  {
   "cell_type": "code",
   "execution_count": 166,
   "metadata": {},
   "outputs": [
    {
     "data": {
      "text/html": [
       "<div>\n",
       "<style scoped>\n",
       "    .dataframe tbody tr th:only-of-type {\n",
       "        vertical-align: middle;\n",
       "    }\n",
       "\n",
       "    .dataframe tbody tr th {\n",
       "        vertical-align: top;\n",
       "    }\n",
       "\n",
       "    .dataframe thead th {\n",
       "        text-align: right;\n",
       "    }\n",
       "</style>\n",
       "<table border=\"1\" class=\"dataframe\">\n",
       "  <thead>\n",
       "    <tr style=\"text-align: right;\">\n",
       "      <th></th>\n",
       "      <th>Prefecture</th>\n",
       "      <th>period</th>\n",
       "      <th>area</th>\n",
       "    </tr>\n",
       "  </thead>\n",
       "  <tbody>\n",
       "    <tr>\n",
       "      <th>0</th>\n",
       "      <td>Hokkaido</td>\n",
       "      <td>8585</td>\n",
       "      <td>1700847.0</td>\n",
       "    </tr>\n",
       "    <tr>\n",
       "      <th>1</th>\n",
       "      <td>Aomori</td>\n",
       "      <td>8585</td>\n",
       "      <td>744078.6</td>\n",
       "    </tr>\n",
       "    <tr>\n",
       "      <th>2</th>\n",
       "      <td>Iwate</td>\n",
       "      <td>8585</td>\n",
       "      <td>649211.4</td>\n",
       "    </tr>\n",
       "    <tr>\n",
       "      <th>3</th>\n",
       "      <td>Miyagi</td>\n",
       "      <td>8585</td>\n",
       "      <td>1030135.5</td>\n",
       "    </tr>\n",
       "    <tr>\n",
       "      <th>4</th>\n",
       "      <td>Akita</td>\n",
       "      <td>8585</td>\n",
       "      <td>1317627.0</td>\n",
       "    </tr>\n",
       "    <tr>\n",
       "      <th>5</th>\n",
       "      <td>Yamagata</td>\n",
       "      <td>8585</td>\n",
       "      <td>836407.8</td>\n",
       "    </tr>\n",
       "    <tr>\n",
       "      <th>6</th>\n",
       "      <td>Fukushima</td>\n",
       "      <td>8585</td>\n",
       "      <td>735872.4</td>\n",
       "    </tr>\n",
       "    <tr>\n",
       "      <th>7</th>\n",
       "      <td>Ibaraki</td>\n",
       "      <td>8585</td>\n",
       "      <td>1052459.1</td>\n",
       "    </tr>\n",
       "    <tr>\n",
       "      <th>8</th>\n",
       "      <td>Tochigi</td>\n",
       "      <td>8585</td>\n",
       "      <td>767586.6</td>\n",
       "    </tr>\n",
       "    <tr>\n",
       "      <th>9</th>\n",
       "      <td>Gunma</td>\n",
       "      <td>8585</td>\n",
       "      <td>232211.7</td>\n",
       "    </tr>\n",
       "  </tbody>\n",
       "</table>\n",
       "</div>"
      ],
      "text/plain": [
       "  Prefecture period       area\n",
       "0   Hokkaido   8585  1700847.0\n",
       "1     Aomori   8585   744078.6\n",
       "2      Iwate   8585   649211.4\n",
       "3     Miyagi   8585  1030135.5\n",
       "4      Akita   8585  1317627.0\n",
       "5   Yamagata   8585   836407.8\n",
       "6  Fukushima   8585   735872.4\n",
       "7    Ibaraki   8585  1052459.1\n",
       "8    Tochigi   8585   767586.6\n",
       "9      Gunma   8585   232211.7"
      ]
     },
     "execution_count": 166,
     "metadata": {},
     "output_type": "execute_result"
    }
   ],
   "source": [
    "# We first transfrom the table by using .melt()\n",
    "plottable = pd.melt(areatable, id_vars=['Prefecture'], value_vars=['8585','9094','9599','0004','0509','1014','1519'])\n",
    "plottable = plottable.rename(columns={'variable':'period','value': 'area'})\n",
    "\n",
    "# Converts period column into factor\n",
    "plottable['period'] = plottable['period'].astype('category')\n",
    "\n",
    "plottable.head(10)"
   ]
  },
  {
   "cell_type": "markdown",
   "metadata": {},
   "source": [
    "### Whole Japan"
   ]
  },
  {
   "cell_type": "code",
   "execution_count": 184,
   "metadata": {},
   "outputs": [
    {
     "data": {
      "image/png": "[encoded data removed]",
      "text/plain": [
       "<Figure size 432x288 with 1 Axes>"
      ]
     },
     "metadata": {
      "needs_background": "light"
     },
     "output_type": "display_data"
    }
   ],
   "source": [
    "# Plot area change for Japan\n",
    "df = plottable[plottable.Prefecture == 'AllJapan']\n",
    "\n",
    "plt.plot(df.period,df.area)\n",
    "plt.xlabel('Period')\n",
    "plt.ylabel('Paddy area (km2)')\n",
    "plt.title('All Japan')\n",
    "plt.savefig(out_dir + 'alljapan_ricechange.jpg')\n",
    "plt.show()\n",
    "\n"
   ]
  },
  {
   "cell_type": "markdown",
   "metadata": {},
   "source": [
    "### Prefectural changes"
   ]
  },
  {
   "cell_type": "code",
   "execution_count": 171,
   "metadata": {},
   "outputs": [
    {
     "data": {
      "image/png": "[encoded data removed]",
      "text/plain": [
       "<Figure size 432x288 with 1 Axes>"
      ]
     },
     "metadata": {
      "needs_background": "light"
     },
     "output_type": "display_data"
    }
   ],
   "source": [
    "# Select prefecture to plot\n",
    "pref = 'Ibaraki'\n",
    "\n",
    "df = plottable[plottable.Prefecture == pref]\n",
    "\n",
    "plt.plot(df.period,df.area)\n",
    "plt.xlabel('Period')\n",
    "plt.ylabel('Paddy area (km2)')\n",
    "plt.title(pref);\n",
    "plt.show()\n",
    "\n",
    "\n",
    "\n"
   ]
  },
  {
   "cell_type": "code",
   "execution_count": 185,
   "metadata": {},
   "outputs": [
    {
     "name": "stderr",
     "output_type": "stream",
     "text": [
      "MovieWriter imagemagick unavailable; using Pillow instead.\n"
     ]
    },
    {
     "data": {
      "image/png": "[encoded data removed]",
      "text/plain": [
       "<Figure size 432x288 with 1 Axes>"
      ]
     },
     "metadata": {
      "needs_background": "light"
     },
     "output_type": "display_data"
    }
   ],
   "source": [
    "# Create animation plotting all prefectures\n",
    "df = plottable[plottable.Prefecture != 'AllJapan']\n",
    "\n",
    "fig = plt.figure()\n",
    "camera = Camera(fig)\n",
    "\n",
    "#fig, ax = plt.subplots(figsize=(9,6)) # empty fig\n",
    "for pref in plottable.Prefecture:\n",
    "    t = plt.plot(df.loc[df['Prefecture']==pref,'period'],df.loc[df['Prefecture']==pref,'area'])\n",
    "    plt.xlabel('Period')\n",
    "    plt.ylabel('Paddy area (km2)')\n",
    "    plt.legend(t, [f'{pref}'])\n",
    "    camera.snap()\n",
    "    \n",
    "animation = camera.animate()\n",
    "animation_output = os.path.join(out_dir, 'riceareachange_prefectures.gif')\n",
    "animation.save(animation_output, writer = 'imagemagick', fps=2) #frames per second modifies speed of animation"
   ]
  },
  {
   "cell_type": "markdown",
   "metadata": {},
   "source": [
    "# Fragmentation analysis"
   ]
  },
  {
   "cell_type": "code",
   "execution_count": null,
   "metadata": {},
   "outputs": [],
   "source": [
    "tambolands8589 = pls.Landscape('/Users/luis/Documents/research/jsps/ricemapping/ricemaps/tambo_8589_filtered.tif') #loaded from disk\n",
    "\n",
    "patchmetrics8589 = tambolands8589.compute_patch_metrics_df()\n",
    "patchmetrics8589"
   ]
  },
  {
   "cell_type": "code",
   "execution_count": null,
   "metadata": {},
   "outputs": [],
   "source": []
  }
 ],
 "metadata": {
  "kernelspec": {
   "display_name": "Python 3",
   "language": "python",
   "name": "python3"
  },
  "language_info": {
   "codemirror_mode": {
    "name": "ipython",
    "version": 3
   },
   "file_extension": ".py",
   "mimetype": "text/x-python",
   "name": "python",
   "nbconvert_exporter": "python",
   "pygments_lexer": "ipython3",
   "version": "3.8.5"
  }
 },
 "nbformat": 4,
 "nbformat_minor": 4
}
